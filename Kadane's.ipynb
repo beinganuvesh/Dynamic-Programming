{
 "cells": [
  {
   "cell_type": "markdown",
   "metadata": {},
   "source": [
    "## KADANES'S ALGORITHM"
   ]
  },
  {
   "cell_type": "code",
   "execution_count": 1,
   "metadata": {},
   "outputs": [],
   "source": [
    "def Kadanes(arr):\n",
    "    csum=arr[0]\n",
    "    osum=arr[0]\n",
    "    \n",
    "    for i in range(1, len(arr)):\n",
    "        if csum>=0:\n",
    "            csum+=arr[i]\n",
    "        else:\n",
    "            csum=arr[i]\n",
    "            \n",
    "        if csum>osum:\n",
    "            osum=csum\n",
    "            \n",
    "    return osum"
   ]
  },
  {
   "cell_type": "code",
   "execution_count": 2,
   "metadata": {},
   "outputs": [],
   "source": [
    "def Kconcatenation(arr, k):\n",
    "    lst=k*arr\n",
    "    csum=lst[0]\n",
    "    osum=lst[0]\n",
    "    \n",
    "    for i in range(1, len(lst)):\n",
    "        if csum>=0:\n",
    "            csum+=lst[i]\n",
    "        else:\n",
    "            csum=lst[i]\n",
    "            \n",
    "        if csum>osum:\n",
    "            osum=csum\n",
    "            \n",
    "    return osum"
   ]
  },
  {
   "cell_type": "code",
   "execution_count": 3,
   "metadata": {},
   "outputs": [
    {
     "data": {
      "text/plain": [
       "18"
      ]
     },
     "execution_count": 3,
     "metadata": {},
     "output_type": "execute_result"
    }
   ],
   "source": [
    "arr=[1,2,3]\n",
    "k=3\n",
    "Kconcatenation(arr,k)"
   ]
  },
  {
   "cell_type": "code",
   "execution_count": null,
   "metadata": {},
   "outputs": [],
   "source": [
    "def MinimumSubarraySum(n, arr, s):\n",
    "    csum=arr[0]\n",
    "    \n",
    "    for i in range(1, n):\n",
    "        if csum>=arr[i]:\n",
    "            csum+=arr[i]\n",
    "        else:\n",
    "            csum=arr[i]\n",
    "        \n",
    "        "
   ]
  }
 ],
 "metadata": {
  "kernelspec": {
   "display_name": "Python 3",
   "language": "python",
   "name": "python3"
  },
  "language_info": {
   "codemirror_mode": {
    "name": "ipython",
    "version": 3
   },
   "file_extension": ".py",
   "mimetype": "text/x-python",
   "name": "python",
   "nbconvert_exporter": "python",
   "pygments_lexer": "ipython3",
   "version": "3.8.5"
  }
 },
 "nbformat": 4,
 "nbformat_minor": 4
}
