{
 "cells": [
  {
   "cell_type": "code",
   "execution_count": 10,
   "metadata": {},
   "outputs": [],
   "source": [
    "import sys, math"
   ]
  },
  {
   "cell_type": "raw",
   "metadata": {},
   "source": [
    "NORMAL TYPE"
   ]
  },
  {
   "cell_type": "markdown",
   "metadata": {},
   "source": [
    "## Longest Common Subsequence"
   ]
  },
  {
   "cell_type": "code",
   "execution_count": 1,
   "metadata": {},
   "outputs": [],
   "source": [
    "def Longest_Common_Subsequence(x, y, m, n):\n",
    "    dp = [[0 for j in range(n+1)] for i in range(m+1)]\n",
    "    #Intializing first row\n",
    "    for j in range(n+1):\n",
    "        dp[0][j]=0\n",
    "    for i in range(m+1):\n",
    "        dp[i][0]=0\n",
    "        \n",
    "    for i in range(1, m+1):\n",
    "        for j in range(1, n+1):\n",
    "            if x[i-1]==y[j-1]:\n",
    "                dp[i][j] = 1 + dp[i-1][j-1]\n",
    "            else:\n",
    "                dp[i][j] = max(dp[i][j-1], dp[i-1][j])\n",
    "    return dp[m][n]"
   ]
  },
  {
   "cell_type": "code",
   "execution_count": 2,
   "metadata": {},
   "outputs": [
    {
     "data": {
      "text/plain": [
       "2"
      ]
     },
     "execution_count": 2,
     "metadata": {},
     "output_type": "execute_result"
    }
   ],
   "source": [
    "x = 'HARRY'\n",
    "y = 'SALLY'\n",
    "Longest_Common_Subsequence(x, y, len(x), len(y))"
   ]
  },
  {
   "cell_type": "markdown",
   "metadata": {},
   "source": [
    "## Printing Longest Common Subsequence"
   ]
  },
  {
   "cell_type": "code",
   "execution_count": 1,
   "metadata": {},
   "outputs": [],
   "source": [
    "def Printing_LCS_1(x, y, m, n,):\n",
    "    dp = [[\"\" for j in range(n+1)] for i in range(m+1)]\n",
    "    for i in range(1, m+1):\n",
    "        for j in range(1, n+1):\n",
    "            if x[i-1]==y[j-1]:\n",
    "                dp[i][j] = dp[i-1][j-1] + x[i-1]\n",
    "            else:\n",
    "                dp[i][j] = max(dp[i][j-1], dp[i-1][j], key=len)\n",
    "    return dp[m][n]"
   ]
  },
  {
   "cell_type": "code",
   "execution_count": 2,
   "metadata": {},
   "outputs": [
    {
     "data": {
      "text/plain": [
       "'GTAB'"
      ]
     },
     "execution_count": 2,
     "metadata": {},
     "output_type": "execute_result"
    }
   ],
   "source": [
    "x = 'AGGTAB'\n",
    "y = 'GXTXAYB'\n",
    "m = len(x)\n",
    "n = len(y)\n",
    "Printing_LCS_1(x, y, m, n)"
   ]
  },
  {
   "cell_type": "code",
   "execution_count": 3,
   "metadata": {},
   "outputs": [],
   "source": [
    "def Printing_LCS_2(x, y, m, n):\n",
    "    #Write the code for LCS.\n",
    "    dp = [[0 for j in range(n+1)] for i in range(m+1)]\n",
    "    for i in range(1, m+1):\n",
    "        for j in range(1, n+1):\n",
    "            if x[i-1]==y[j-1]:\n",
    "                dp[i][j] = 1 + dp[i-1][j-1]\n",
    "            else:\n",
    "                dp[i][j] = max(dp[i][j-1], dp[i-1][j])\n",
    "    i=m\n",
    "    j=n\n",
    "    output=\"\"\n",
    "    while i>0 and j>0:\n",
    "        if x[i-1]==y[j-1]:\n",
    "            output=x[i-1]+output\n",
    "            i-=1\n",
    "            j-=1\n",
    "        else:\n",
    "            if dp[i][j-1]>dp[i-1][j]:\n",
    "                j-=1\n",
    "            else:\n",
    "                i-=1\n",
    "    return output"
   ]
  },
  {
   "cell_type": "code",
   "execution_count": 4,
   "metadata": {},
   "outputs": [
    {
     "data": {
      "text/plain": [
       "'GTAB'"
      ]
     },
     "execution_count": 4,
     "metadata": {},
     "output_type": "execute_result"
    }
   ],
   "source": [
    "x = 'AGGTAB'\n",
    "y = 'GXTXAYB'\n",
    "m = len(x)\n",
    "n = len(y)\n",
    "Printing_LCS_2(x, y, m, n)"
   ]
  },
  {
   "cell_type": "markdown",
   "metadata": {},
   "source": [
    "## Longest Common Substring"
   ]
  },
  {
   "cell_type": "code",
   "execution_count": 66,
   "metadata": {},
   "outputs": [],
   "source": [
    "def Longest_Common_Substring(x, y, m, n):\n",
    "    dp = [[0 for j in range(n+1)] for i in range(m+1)]\n",
    "    \n",
    "    for i in range(1, m+1):\n",
    "        for j in range(1, n+1):\n",
    "            if x[i-1]==y[j-1]:\n",
    "                dp[i][j] = 1 + dp[i-1][j-1]\n",
    "            else:\n",
    "                dp[i][j] = 0\n",
    "    \n",
    "    #Return the maximum value.\n",
    "    maximum = -1\n",
    "    for i in range(m+1):\n",
    "        for j in range(n+1):\n",
    "            if dp[i][j]>maximum:\n",
    "                maximum=dp[i][j]\n",
    "                \n",
    "    return maximum"
   ]
  },
  {
   "cell_type": "code",
   "execution_count": 67,
   "metadata": {},
   "outputs": [
    {
     "data": {
      "text/plain": [
       "4"
      ]
     },
     "execution_count": 67,
     "metadata": {},
     "output_type": "execute_result"
    }
   ],
   "source": [
    "x = \"abcdgh\"\n",
    "y = \"acdghr\"\n",
    "m = len(x)\n",
    "n = len(y)\n",
    "Longest_Common_Substring(x, y, m, n)"
   ]
  },
  {
   "cell_type": "markdown",
   "metadata": {},
   "source": [
    "## Printing Longest Common Substring"
   ]
  },
  {
   "cell_type": "code",
   "execution_count": 61,
   "metadata": {},
   "outputs": [],
   "source": [
    "def Printing_Longest_Common_Substring(x, y, m, n):\n",
    "    dp = [[0 for j in range(n+1)] for i in range(m+1)]\n",
    "    length=0\n",
    "    row=0\n",
    "    col=0\n",
    "    \n",
    "    for i in range(1, m+1):\n",
    "        for j in range(1, n+1):\n",
    "            if x[i-1]==y[j-1]:\n",
    "                dp[i][j] = 1 + dp[i-1][j-1]\n",
    "                if length<dp[i][j]:\n",
    "                    length=dp[i][j]\n",
    "                    row=i\n",
    "                    col=j\n",
    "            else:\n",
    "                dp[i][j] = 0\n",
    "    \n",
    "    output=\"\"\n",
    "    while dp[row][col]!=0:\n",
    "        length-=1\n",
    "        output=x[row-1]+output\n",
    "        row-=1\n",
    "        col-=1\n",
    "    return output"
   ]
  },
  {
   "cell_type": "code",
   "execution_count": 62,
   "metadata": {},
   "outputs": [
    {
     "data": {
      "text/plain": [
       "'cdgh'"
      ]
     },
     "execution_count": 62,
     "metadata": {},
     "output_type": "execute_result"
    }
   ],
   "source": [
    "x = \"abcdgh\"\n",
    "y = \"acdghr\"\n",
    "m = len(x)\n",
    "n = len(y)\n",
    "Printing_Longest_Common_Substring(x, y, m, n)"
   ]
  },
  {
   "cell_type": "markdown",
   "metadata": {},
   "source": [
    "## Shortest Common Supersequence"
   ]
  },
  {
   "cell_type": "code",
   "execution_count": 6,
   "metadata": {},
   "outputs": [],
   "source": [
    "# Length of Shortest Common supersequence = a+b-LCS(a,b)\n",
    "def ShortestCommonsupersequence(a, b):\n",
    "    \n",
    "    lcs=LCS(a,b)\n",
    "    i=0\n",
    "    j=0\n",
    "    res=\"\"\n",
    "    for ch in lcs:\n",
    "        while ch!=a[i]:\n",
    "            res+=a[i]\n",
    "            i+=1\n",
    "        while ch!=b[j]:\n",
    "            res+=b[j]\n",
    "            j+=1\n",
    "        res+=ch\n",
    "        i+=1\n",
    "        j+=1\n",
    "        \n",
    "    return res+a[i:]+b[j:]\n",
    " \n",
    "def LCS(a,b):\n",
    "    dp=[[\"\" for j in range(len(b)+1)]for i in range(len(a)+1)]\n",
    "    for i in range(1, len(a)+1):\n",
    "        for j in range(1, len(b)+1):\n",
    "            if a[i-1]==b[j-1]:\n",
    "                dp[i][j]=dp[i-1][j-1]+a[i-1]\n",
    "            else:\n",
    "                dp[i][j]=max(dp[i][j-1], dp[i-1][j] , key=len)\n",
    "                \n",
    "    return dp[-1][-1]"
   ]
  },
  {
   "cell_type": "code",
   "execution_count": 7,
   "metadata": {},
   "outputs": [
    {
     "data": {
      "text/plain": [
       "'cabac'"
      ]
     },
     "execution_count": 7,
     "metadata": {},
     "output_type": "execute_result"
    }
   ],
   "source": [
    "str1 = \"abac\"\n",
    "str2 = \"cab\"\n",
    "ShortestCommonsupersequence(str1, str2)"
   ]
  },
  {
   "cell_type": "markdown",
   "metadata": {},
   "source": [
    "## Minimum number of Deletions and Insertions to convert A->B"
   ]
  },
  {
   "cell_type": "code",
   "execution_count": 8,
   "metadata": {},
   "outputs": [],
   "source": [
    "#Find the LCS of both strings"
   ]
  },
  {
   "cell_type": "code",
   "execution_count": null,
   "metadata": {},
   "outputs": [],
   "source": []
  },
  {
   "cell_type": "code",
   "execution_count": null,
   "metadata": {},
   "outputs": [],
   "source": []
  },
  {
   "cell_type": "code",
   "execution_count": null,
   "metadata": {},
   "outputs": [],
   "source": []
  },
  {
   "cell_type": "markdown",
   "metadata": {},
   "source": [
    "PALINDRONE TYPE"
   ]
  },
  {
   "cell_type": "markdown",
   "metadata": {},
   "source": [
    "## LONGEST PALINDRONIC SUBSEQUENCE"
   ]
  },
  {
   "cell_type": "code",
   "execution_count": 9,
   "metadata": {},
   "outputs": [],
   "source": [
    "def Longest_Palindronic_Subsequence(x):\n",
    "    y=x[::-1]\n",
    "    m=len(x)\n",
    "    n=len(x)\n",
    "    dp = [[0 for j in range(n+1)] for i in range(m+1)]\n",
    "        \n",
    "    for i in range(1, m+1):\n",
    "        for j in range(1, n+1):\n",
    "            if x[i-1]==y[j-1]:\n",
    "                dp[i][j] = 1 + dp[i-1][j-1]\n",
    "            else:\n",
    "                dp[i][j] = max(dp[i][j-1], dp[i-1][j])\n",
    "    return dp[m][n]"
   ]
  },
  {
   "cell_type": "markdown",
   "metadata": {},
   "source": [
    "## PRINTING LONGEST PALINDRONIC SUBSEQUENCE"
   ]
  },
  {
   "cell_type": "code",
   "execution_count": 21,
   "metadata": {},
   "outputs": [],
   "source": [
    "def Printing_LPS(x):\n",
    "    y=x[::-1]\n",
    "    m=len(x)\n",
    "    n=len(x)\n",
    "    dp = [[0 for j in range(n+1)] for i in range(m+1)]\n",
    "    \n",
    "    for i in range(1, m+1):\n",
    "        for j in range(1, n+1):\n",
    "            if x[i-1]==y[j-1]:\n",
    "                dp[i][j] = 1 + dp[i-1][j-1]\n",
    "            else:\n",
    "                dp[i][j] = max(dp[i][j-1], dp[i-1][j])\n",
    "                \n",
    "    #Code to print the LPS:\n",
    "    ans=\"\"\n",
    "    i, j = m, n\n",
    "    while i>0 and j>0:\n",
    "        if x[i-1]==y[j-1]:\n",
    "            ans=x[i-1]+ans\n",
    "            i-=1\n",
    "            j-=1\n",
    "        elif dp[i][j-1]>dp[i-1][j]:\n",
    "            j-=1\n",
    "        else:\n",
    "            i-=1\n",
    "    return ans"
   ]
  },
  {
   "cell_type": "code",
   "execution_count": 22,
   "metadata": {},
   "outputs": [
    {
     "data": {
      "text/plain": [
       "'BABCBAB'"
      ]
     },
     "execution_count": 22,
     "metadata": {},
     "output_type": "execute_result"
    }
   ],
   "source": [
    "Printing_LPS('BBABCBCAB')"
   ]
  },
  {
   "cell_type": "markdown",
   "metadata": {},
   "source": [
    "## LONGEST PALINDRONIC SUBSTRING"
   ]
  },
  {
   "cell_type": "code",
   "execution_count": 23,
   "metadata": {},
   "outputs": [],
   "source": [
    "def Longest_Palindronic_Substring(x):\n",
    "    y=x[::-1]\n",
    "    m,n=len(x),len(y)\n",
    "    dp = [[0 for j in range(n+1)] for i in range(m+1)]\n",
    "    for i in range(1, m+1):\n",
    "        for j in range(1, n+1):\n",
    "            if x[i-1]==y[j-1]:\n",
    "                dp[i][j] = 1 + dp[i-1][j-1]\n",
    "            else:\n",
    "                dp[i][j] = 0\n",
    "    \n",
    "    #Return the maximum value.\n",
    "    maximum = -1\n",
    "    for i in range(m+1):\n",
    "        for j in range(n+1):\n",
    "            if dp[i][j]>maximum:\n",
    "                maximum=dp[i][j]\n",
    "                \n",
    "    return maximum"
   ]
  },
  {
   "cell_type": "code",
   "execution_count": 26,
   "metadata": {},
   "outputs": [
    {
     "data": {
      "text/plain": [
       "10"
      ]
     },
     "execution_count": 26,
     "metadata": {},
     "output_type": "execute_result"
    }
   ],
   "source": [
    "Longest_Palindronic_Substring('forgeeksskeegfor')"
   ]
  },
  {
   "cell_type": "markdown",
   "metadata": {},
   "source": [
    "## PRINTING LONGEST PALINDRONIC SUBSTRING*"
   ]
  },
  {
   "cell_type": "markdown",
   "metadata": {},
   "source": [
    "#### GAP METHOD"
   ]
  },
  {
   "cell_type": "code",
   "execution_count": 20,
   "metadata": {},
   "outputs": [],
   "source": [
    "def Print_Longest_P_substring(s):\n",
    "    n=len(s)\n",
    "    dp=[[False for j in range(n)] for i in range(n)]\n",
    "    length=0\n",
    "    max_length=0\n",
    "    ans=\"\"\n",
    "    \n",
    "    for g in range(0, n):\n",
    "        for i,j in zip(range(0, n) , range(g, n)):\n",
    "            if g==0:\n",
    "                dp[i][j]=True\n",
    "                length=1\n",
    "                if length>max_length:\n",
    "                    max_length=length\n",
    "                    ans=s[i]\n",
    "            elif g==1:\n",
    "                if s[i]==s[j]:\n",
    "                    dp[i][j]=True\n",
    "                    length=2\n",
    "                    if length>max_length:\n",
    "                        max_length=length\n",
    "                        ans=s[i]+s[j]\n",
    "                else:\n",
    "                    dp[i][j]=False\n",
    "            else:\n",
    "                if s[i]==s[j] and dp[i+1][j-1]==True:\n",
    "                    dp[i][j]=True\n",
    "                    length=(j-i)+1\n",
    "                    if length>max_length:\n",
    "                        max_length=length\n",
    "                        ans=s[i:j+1]\n",
    "                else:\n",
    "                    dp[i][j]=False\n",
    "                    \n",
    "    return ans"
   ]
  },
  {
   "cell_type": "code",
   "execution_count": 21,
   "metadata": {},
   "outputs": [
    {
     "data": {
      "text/plain": [
       "'aca'"
      ]
     },
     "execution_count": 21,
     "metadata": {},
     "output_type": "execute_result"
    }
   ],
   "source": [
    "Print_Longest_P_substring('\"aacabdkacaa\"')"
   ]
  },
  {
   "cell_type": "markdown",
   "metadata": {},
   "source": [
    "## 1. Minimum number of Deletions to make string Palindronic\n",
    "## 2. Minimum number of Insertions to make string Palindronic"
   ]
  },
  {
   "cell_type": "code",
   "execution_count": 22,
   "metadata": {},
   "outputs": [],
   "source": [
    "# 1.FIND THE LONGEST PALINDRONIC SUBSEQUENCE OF BOTH STRINGS.\n",
    "# 2.ANSWER=LENGTH-LPS(A)"
   ]
  },
  {
   "cell_type": "code",
   "execution_count": null,
   "metadata": {},
   "outputs": [],
   "source": []
  },
  {
   "cell_type": "markdown",
   "metadata": {},
   "source": [
    "## Longest Repeating Subsequence"
   ]
  },
  {
   "cell_type": "code",
   "execution_count": null,
   "metadata": {},
   "outputs": [],
   "source": []
  },
  {
   "cell_type": "code",
   "execution_count": null,
   "metadata": {},
   "outputs": [],
   "source": []
  },
  {
   "cell_type": "markdown",
   "metadata": {},
   "source": [
    "## Sequence Pattern Matching"
   ]
  },
  {
   "cell_type": "code",
   "execution_count": null,
   "metadata": {},
   "outputs": [],
   "source": []
  },
  {
   "cell_type": "code",
   "execution_count": null,
   "metadata": {},
   "outputs": [],
   "source": []
  },
  {
   "cell_type": "code",
   "execution_count": null,
   "metadata": {},
   "outputs": [],
   "source": []
  },
  {
   "cell_type": "markdown",
   "metadata": {},
   "source": [
    "# PEPCODING"
   ]
  },
  {
   "cell_type": "markdown",
   "metadata": {},
   "source": [
    "### Count Palindronic Subsequence"
   ]
  },
  {
   "cell_type": "code",
   "execution_count": 50,
   "metadata": {},
   "outputs": [],
   "source": [
    "def countLPS_(s, i, j):\n",
    "    #Base Case\n",
    "    if i>j:\n",
    "        return 0\n",
    "    if i==j:\n",
    "        return 1\n",
    "    \n",
    "    if s[i]==s[j]:\n",
    "        return countLPS_(s, i+1, j) + countLPS_(s, i, j-1) + 1\n",
    "    else:\n",
    "        return countLPS_(s, i+1, j) + countLPS_(s, i, j-1) - countLPS_(s, i+1, j-1)"
   ]
  },
  {
   "cell_type": "code",
   "execution_count": 51,
   "metadata": {},
   "outputs": [],
   "source": [
    "def countLPS(s, i, j, dp):\n",
    "    #Base Case\n",
    "    if i>j:\n",
    "        return 0\n",
    "    if i==j:\n",
    "        return 1\n",
    "    \n",
    "    if s[i]==s[j]:\n",
    "        if dp[i+1][j]==-1:\n",
    "            a1=countLPS(s, i+1, j, dp)\n",
    "            dp[i+1][j]=a1\n",
    "        else:\n",
    "            a1=dp[i+1][j]\n",
    "        \n",
    "        if dp[i][j-1]==-1:\n",
    "            a2=countLPS(s, i, j-1, dp)\n",
    "            dp[i][j-1]=a2\n",
    "        else:\n",
    "            a2=dp[i][j-1]   \n",
    "            \n",
    "        return 1+a1+a2\n",
    "    \n",
    "    else:\n",
    "        if dp[i+1][j]==-1:\n",
    "            a1=countLPS(s, i+1, j, dp)\n",
    "            dp[i+1][j]=a1\n",
    "        else:\n",
    "            a1=dp[i+1][j]\n",
    "        \n",
    "        if dp[i][j-1]==-1:\n",
    "            a2=countLPS(s, i, j-1, dp)\n",
    "            dp[i][j-1]=a2\n",
    "        else:\n",
    "            a2=dp[i][j-1]\n",
    "            \n",
    "        if dp[i+1][j-1]==-1:\n",
    "            a3=countLPS(s, i+1, j-1, dp)\n",
    "            dp[i+1][j-1]=a3\n",
    "        else:\n",
    "            a3=dp[i+1][j-1]\n",
    "            \n",
    "        return a1+a2-a3"
   ]
  },
  {
   "cell_type": "code",
   "execution_count": 18,
   "metadata": {},
   "outputs": [
    {
     "data": {
      "text/plain": [
       "4"
      ]
     },
     "execution_count": 18,
     "metadata": {},
     "output_type": "execute_result"
    }
   ],
   "source": [
    "s='abcd'\n",
    "n=len(s)\n",
    "dp=[[-1 for j in range(n+1)] for i in range(n+1)]\n",
    "countLPS(s, 0, n-1, dp)"
   ]
  },
  {
   "cell_type": "markdown",
   "metadata": {},
   "source": [
    "### Count Palindronic Substrings*"
   ]
  },
  {
   "cell_type": "code",
   "execution_count": 25,
   "metadata": {},
   "outputs": [],
   "source": [
    "##GAP METHOD\n",
    "def Count_Psubstring(s):\n",
    "    n=len(s)\n",
    "    dp=[[False for j in range(n)] for i in range(n)]\n",
    "    count=0\n",
    "    for g in range(0, n):\n",
    "        for i,j in zip(range(0, n-g) , range(g, n)):\n",
    "            if g==0:\n",
    "                dp[i][j]=True\n",
    "                count+=1\n",
    "            elif g==1:\n",
    "                if s[i]==s[j]:\n",
    "                    dp[i][j]=True\n",
    "                    count+=1\n",
    "                else:\n",
    "                    dp[i][j]=False\n",
    "            else:\n",
    "                if s[i]==s[j] and dp[i+1][j-1]==True:\n",
    "                    dp[i][j]=True\n",
    "                    count+=1\n",
    "                else:\n",
    "                    dp[i][j]=False            \n",
    "    return count"
   ]
  },
  {
   "cell_type": "code",
   "execution_count": 26,
   "metadata": {},
   "outputs": [
    {
     "data": {
      "text/plain": [
       "15"
      ]
     },
     "execution_count": 26,
     "metadata": {},
     "output_type": "execute_result"
    }
   ],
   "source": [
    "st='aaaaa'\n",
    "Count_Psubstring(st)"
   ]
  }
 ],
 "metadata": {
  "kernelspec": {
   "display_name": "Python 3",
   "language": "python",
   "name": "python3"
  },
  "language_info": {
   "codemirror_mode": {
    "name": "ipython",
    "version": 3
   },
   "file_extension": ".py",
   "mimetype": "text/x-python",
   "name": "python",
   "nbconvert_exporter": "python",
   "pygments_lexer": "ipython3",
   "version": "3.8.5"
  }
 },
 "nbformat": 4,
 "nbformat_minor": 4
}
