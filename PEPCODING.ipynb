{
 "cells": [
  {
   "cell_type": "code",
   "execution_count": 3,
   "metadata": {},
   "outputs": [],
   "source": [
    "import sys\n",
    "import queue"
   ]
  },
  {
   "cell_type": "markdown",
   "metadata": {},
   "source": [
    "# STOCK SELLING"
   ]
  },
  {
   "cell_type": "code",
   "execution_count": 2,
   "metadata": {},
   "outputs": [],
   "source": [
    "#121 Best Time to Buy and Sell Stock-1 (Easy)\n",
    "\n",
    "#122. Best Time to Buy and Sell Stock II (Easy)\n",
    "\n",
    "#309 Best Time to Buy and Sell Stock with Cooldown (Medium)\n",
    "\n",
    "#714 Best Time to Buy and Sell Stock with Transaction Fee (Medium)\n",
    "\n",
    "#123 Best Time to Buy and Sell Stock III (Two Transaction-Hard) \n",
    "\n",
    "#188 Best Time to Buy and Sell Stock IV  (K Transaction-Hard) "
   ]
  },
  {
   "cell_type": "markdown",
   "metadata": {},
   "source": [
    "### Stock Selling with one Transcation Allowed."
   ]
  },
  {
   "cell_type": "code",
   "execution_count": 6,
   "metadata": {},
   "outputs": [],
   "source": [
    "def StockSelling(n, arr):\n",
    "    cost=sys.maxszie\n",
    "    ans=-sys.maxsize\n",
    "    profit=0\n",
    "    \n",
    "    for i in range(0,n):\n",
    "        if arr[i]<cost:\n",
    "            cost=arr[i]\n",
    "        else:\n",
    "            profit=arr[i]-cost\n",
    "            ans=max(ans, profit)\n",
    "            \n",
    "    return ans"
   ]
  },
  {
   "cell_type": "markdown",
   "metadata": {},
   "source": [
    "### Stock Selling with Infinite Transcations."
   ]
  },
  {
   "cell_type": "code",
   "execution_count": 3,
   "metadata": {},
   "outputs": [],
   "source": [
    "def StockSellingWithInfiniteTranscations(arr):\n",
    "    buying=arr[0]\n",
    "    total=0\n",
    "    for i in range(1, len(arr)):\n",
    "        if arr[i]<buying:\n",
    "            buying=arr[i]\n",
    "        else:\n",
    "            profit=arr[i]-buying\n",
    "            total+=profit\n",
    "            buying=sys.maxsize\n",
    "            \n",
    "    return total"
   ]
  },
  {
   "cell_type": "markdown",
   "metadata": {},
   "source": [
    "### Stock Selling with Infinite Transcation with Fees."
   ]
  },
  {
   "cell_type": "code",
   "execution_count": 5,
   "metadata": {},
   "outputs": [
    {
     "data": {
      "text/plain": [
       "13"
      ]
     },
     "execution_count": 5,
     "metadata": {},
     "output_type": "execute_result"
    }
   ],
   "source": [
    "#GREEDY\n",
    "def StockSellingWithFees_Greedy(arr, fees):\n",
    "    buying=arr[0]\n",
    "    total=0\n",
    "    for i in range(1, len(arr)):\n",
    "        if arr[i]<buying:\n",
    "            buying=arr[i]\n",
    "        elif arr[i]>buying+fees:\n",
    "            profit=arr[i]-buying-fees\n",
    "            total+=profit\n",
    "            buying=arr[i]-fees          \n",
    "    return total\n",
    "\n",
    "stock=[10,15,17,20,16,18,22,20,22,20,23,25]\n",
    "k=3\n",
    "StockSellingWithFees_Greedy(stock, k)"
   ]
  },
  {
   "cell_type": "code",
   "execution_count": 2,
   "metadata": {},
   "outputs": [],
   "source": [
    "#DP\n",
    "def StockSellingWithFees(arr, k):\n",
    "    bsp=-arr[0]\n",
    "    ssp=0\n",
    "    \n",
    "    for i in range(1, len(arr)):\n",
    "        if -arr[i]+ssp>bsp:\n",
    "            #Change the bsp state!\n",
    "            bsp=-arr[i]+ssp\n",
    "            \n",
    "        if bsp+arr[i]-k>ssp:\n",
    "            ssp=bsp+arr[i]-k\n",
    "            \n",
    "    return ssp"
   ]
  },
  {
   "cell_type": "code",
   "execution_count": 3,
   "metadata": {},
   "outputs": [
    {
     "data": {
      "text/plain": [
       "13"
      ]
     },
     "execution_count": 3,
     "metadata": {},
     "output_type": "execute_result"
    }
   ],
   "source": [
    "stock=[10,15,17,20,16,18,22,20,22,20,23,25]\n",
    "k=3\n",
    "StockSellingWithFees(stock, k)"
   ]
  },
  {
   "cell_type": "markdown",
   "metadata": {},
   "source": [
    "### Stock Sell with CoolDown"
   ]
  },
  {
   "cell_type": "code",
   "execution_count": 12,
   "metadata": {},
   "outputs": [],
   "source": [
    "def StockSellingWithCooldown(n, arr):\n",
    "    bsp=-arr[0]\n",
    "    ssp=0\n",
    "    csp=0\n",
    "    \n",
    "    for i in range(1, n):\n",
    "        if -arr[i]+csp>bsp:\n",
    "            bsp=-arr[i]+csp\n",
    "            \n",
    "        if ssp>csp:\n",
    "            csp=ssp\n",
    "            \n",
    "        if arr[i]+bsp>ssp:\n",
    "            ssp=arr[i]+bsp\n",
    "            \n",
    "    return ssp"
   ]
  },
  {
   "cell_type": "markdown",
   "metadata": {},
   "source": [
    "### Two Transcations Allowed"
   ]
  },
  {
   "cell_type": "code",
   "execution_count": 1,
   "metadata": {},
   "outputs": [],
   "source": [
    "def twoTranscations(n, arr):\n",
    "    max_profit_if_sold_today=0\n",
    "    least_so_far=arr[0]\n",
    "    dpleft=[0 for i in range(n)]\n",
    "    \n",
    "    \n",
    "    for i in range(1, n):\n",
    "        #Updating the least so far.\n",
    "        if arr[i]<least_so_far:\n",
    "            least_so_far=arr[i]\n",
    "           \n",
    "        max_profit_if_sold_today = arr[i]-least_so_far\n",
    "        if dpleft[i-1]<max_profit_if_sold_today:\n",
    "            dpleft[i]=max_profit_if_sold_today\n",
    "        else:\n",
    "            dpleft[i]=dpleft[i-1]\n",
    "            \n",
    "            \n",
    "            \n",
    "    max_profit_if_bought_today=0\n",
    "    max_so_far=arr[n-1]\n",
    "    dpright=[0 for i in range(n)]\n",
    "    \n",
    "    for i in range(n-2, -1, -1):\n",
    "        #Updating the maximum value\n",
    "        if arr[i]>max_so_far:\n",
    "            max_so_far=arr[i]\n",
    "            \n",
    "        max_profit_if_bought_today = max_so_far-arr[i]\n",
    "        if dpright[i+1]<max_profit_if_bought_today:\n",
    "            dpright[i]=max_profit_if_bought_today\n",
    "        else:\n",
    "            dpright[i]=dpright[i+1]\n",
    "            \n",
    "    overall=-1\n",
    "    for i in range(len(dpleft)):\n",
    "        if dpleft[i]+dpright[i]>overall:\n",
    "            overall=dpleft[i]+dpright[i]\n",
    "        \n",
    "    return overall"
   ]
  },
  {
   "cell_type": "markdown",
   "metadata": {},
   "source": [
    "### K Transcation Allowed."
   ]
  },
  {
   "cell_type": "code",
   "execution_count": 2,
   "metadata": {},
   "outputs": [],
   "source": [
    "#Classical DP Question\n",
    "import sys\n",
    "def kTranscationAllowed(n, arr, k):\n",
    "    dp=[[0 for j in range(n)]for i in range(k+1)]\n",
    "    \n",
    "    for i in range(1, k+1):\n",
    "        for j in range(1, n):\n",
    "            m=dp[i][j-1]\n",
    "            for pd in range(0, j):\n",
    "                if dp[i-1][pd]+(arr[j]-arr[pd])>m:\n",
    "                    m=dp[i-1][pd]+arr[j]-arr[pd]\n",
    "            dp[i][j]=m\n",
    "                \n",
    "    return dp[k][n-1]\n",
    "            "
   ]
  },
  {
   "cell_type": "code",
   "execution_count": 3,
   "metadata": {},
   "outputs": [],
   "source": [
    "def maxProfit(k, n, arr):\n",
    "    dp=[[0 for j in range(n+1)]for i in range(k+1)]\n",
    "    for i in range(1, k+1):\n",
    "        for j in range(1, n):\n",
    "            dp[i][j] = max(dp[i-1][j-1]+(arr[j]-arr[j-1]) , dp[i][j-1])\n",
    "    return dp[k][n-1]\n",
    "                    "
   ]
  },
  {
   "cell_type": "code",
   "execution_count": 4,
   "metadata": {},
   "outputs": [
    {
     "data": {
      "text/plain": [
       "83"
      ]
     },
     "execution_count": 4,
     "metadata": {},
     "output_type": "execute_result"
    }
   ],
   "source": [
    "n=7\n",
    "k=2\n",
    "price = [2, 30, 15, 10, 8, 25, 80]\n",
    "kTranscationAllowed(n, price, k)\n",
    "maxProfit(k, n, price)"
   ]
  },
  {
   "cell_type": "code",
   "execution_count": null,
   "metadata": {},
   "outputs": [],
   "source": []
  },
  {
   "cell_type": "code",
   "execution_count": null,
   "metadata": {},
   "outputs": [],
   "source": []
  },
  {
   "cell_type": "code",
   "execution_count": null,
   "metadata": {},
   "outputs": [],
   "source": []
  },
  {
   "cell_type": "markdown",
   "metadata": {},
   "source": [
    "# PRINTING THE PATHS"
   ]
  },
  {
   "cell_type": "markdown",
   "metadata": {},
   "source": [
    "### JUMP GAME AND PRINTING PATHS OF JUMP GAME"
   ]
  },
  {
   "cell_type": "code",
   "execution_count": 9,
   "metadata": {},
   "outputs": [],
   "source": [
    "# 1.dp of i denote minimum number of steps from ith to last step.\n",
    "# 2.Direction of problem is from right to left. (<--)\n",
    "# 3.Filling the dp.\n",
    "def Jump_Game(n, arr):\n",
    "    dp=[0 for i in range(n)]\n",
    "    #We require 0 jumps from last position.\n",
    "    dp[-1]=0\n",
    "    for i in range(n-2, -1, -1):\n",
    "        #To determine how many steps we can take from our current position.\n",
    "        steps=arr[i]\n",
    "        if steps==0:\n",
    "            dp[i]=sys.maxsize\n",
    "        minimum=sys.maxsize\n",
    "        for j in range(1, steps+1):\n",
    "            if i+j<n:\n",
    "                minimum=min(minimum, dp[i+j])\n",
    "        dp[i]=1+minimum\n",
    "        \n",
    "    return dp[0]"
   ]
  },
  {
   "cell_type": "code",
   "execution_count": 10,
   "metadata": {},
   "outputs": [
    {
     "data": {
      "text/plain": [
       "4"
      ]
     },
     "execution_count": 10,
     "metadata": {},
     "output_type": "execute_result"
    }
   ],
   "source": [
    "n=10\n",
    "a = [3,3,0,2,1,2,4,2,0,0]\n",
    "Jump_Game(n, a)"
   ]
  },
  {
   "cell_type": "code",
   "execution_count": 6,
   "metadata": {},
   "outputs": [],
   "source": [
    "class Pair:\n",
    "    def __init__(self, idx, steps, jump, asf):\n",
    "        self.idx=idx\n",
    "        self.steps=steps\n",
    "        self.jump=jump\n",
    "        self.asf=asf\n",
    "        \n",
    "def Printing_Jump_Game(n, arr):\n",
    "    dp=[0 for i in range(n)]\n",
    "    for i in range(n-2, -1, -1):\n",
    "        steps=arr[i]\n",
    "        if steps==0:\n",
    "            dp[i]=sys.maxsize\n",
    "        minimum=sys.maxsize\n",
    "        for j in range(1, steps+1):\n",
    "            if i+j<n:\n",
    "                minimum=min(minimum, dp[i+j])\n",
    "        dp[i]=1+minimum\n",
    "        \n",
    "    idx=0\n",
    "    steps=arr[0]\n",
    "    jump=dp[0]\n",
    "    asf=\"\"\n",
    "    \n",
    "    q=queue.Queue()\n",
    "    first=Pair(idx, steps, jump, asf+str(idx))\n",
    "    q.put(first)\n",
    "    \n",
    "    while q.empty() is False:\n",
    "        current=q.get()\n",
    "        \n",
    "        if current.jump==0:\n",
    "            print(current.asf)\n",
    "            \n",
    "        current_index=current.idx\n",
    "        for j in range(1,current.steps+1):\n",
    "            if current_index+j<n and dp[current_index+j]==current.jump-1:\n",
    "                child=Pair(current_index+j, arr[current_index+j], dp[current_index+j],\n",
    "                            current.asf + \"->\" + str(current_index+j))\n",
    "                q.put(child)\n",
    "                \n",
    "                "
   ]
  },
  {
   "cell_type": "code",
   "execution_count": 7,
   "metadata": {},
   "outputs": [
    {
     "name": "stdout",
     "output_type": "stream",
     "text": [
      "0->3->5->6->9\n",
      "0->3->5->7->9\n"
     ]
    }
   ],
   "source": [
    "n=10\n",
    "a = [3,3,0,2,1,2,4,2,0,0]\n",
    "Printing_Jump_Game(n, a)"
   ]
  },
  {
   "cell_type": "markdown",
   "metadata": {},
   "source": [
    "### MINUMUM COST AND PRINTNING ALL PATHS WITH MINIMUM COST"
   ]
  },
  {
   "cell_type": "code",
   "execution_count": 3,
   "metadata": {},
   "outputs": [],
   "source": [
    "class Pair:\n",
    "    def __init__(self, i, j, asf):\n",
    "        self.i=i\n",
    "        self.j=j\n",
    "        self.asf=asf\n",
    "        \n",
    "def Minimum_Cost(m, n, arr):\n",
    "    dp=[[0 for j in range(n)]for i in range(m)]\n",
    "    \n",
    "    for i in range(m-1, -1, -1):\n",
    "        for j in range(n-1, -1 ,-1):\n",
    "            if i==m-1 and j==n-1:\n",
    "                dp[i][j]=arr[i][j]\n",
    "            elif i==m-1:\n",
    "                dp[i][j]=arr[i][j] + dp[i][j+1]\n",
    "            elif j==n-1:\n",
    "                dp[i][j]=arr[i][j] + dp[i+1][j]\n",
    "            else:\n",
    "                dp[i][j]=arr[i][j] + min(dp[i+1][j], dp[i][j+1])\n",
    "                             \n",
    "    asf=\"\" \n",
    "    q=queue.Queue()\n",
    "    node=Pair(0, 0, asf)\n",
    "    q.put(node)\n",
    "    \n",
    "    while q.empty() is False:\n",
    "        current=q.get()\n",
    "        \n",
    "        if current.i==m-1 and current.j==n-1:\n",
    "            print(current.asf)\n",
    "            \n",
    "        elif current.i==m-1:\n",
    "            child=Pair(current.i, current.j+1, current.asf+'H')\n",
    "            q.put(child)\n",
    "                \n",
    "        elif current.j==n-1:\n",
    "            child=Pair(current.i+1, current.j, current.asf+'V')\n",
    "            q.put(child)\n",
    "            \n",
    "        else:\n",
    "            if dp[current.i+1][current.j]>dp[current.i][current.j+1]:\n",
    "                child=Pair(current.i, current.j+1, current.asf+'H')\n",
    "                q.put(child)\n",
    "            elif dp[current.i+1][current.j]<dp[current.i][current.j+1]:\n",
    "                child=Pair(current.i+1, current.j, current.asf+'V')\n",
    "                q.put(child)\n",
    "            else:\n",
    "                child1=Pair(current.i, current.j+1, current.asf+'H')\n",
    "                child2=Pair(current.i+1, current.j, current.asf+'V')\n",
    "                q.put(child1)\n",
    "                q.put(child2)\n",
    "\n",
    "                "
   ]
  },
  {
   "cell_type": "code",
   "execution_count": 61,
   "metadata": {},
   "outputs": [
    {
     "name": "stdout",
     "output_type": "stream",
     "text": [
      "HVVHHVHHVV\n",
      "HVVHHVHVHV\n"
     ]
    }
   ],
   "source": [
    "m=6\n",
    "n=6\n",
    "a=[[0, 1, 4, 2, 8, 2],\n",
    "[4, 3, 6, 5, 0, 4],\n",
    "[1, 2, 4, 1, 4, 6],\n",
    "[2, 0, 7, 3, 2, 2],\n",
    "[3, 1, 5, 9, 2, 4],\n",
    "[2, 7, 0, 8, 5, 1]]\n",
    "Minimum_Cost(m,n,a)"
   ]
  },
  {
   "cell_type": "markdown",
   "metadata": {},
   "source": [
    "### MAXIMUM GOLD-1 WITH ALL PATHS"
   ]
  },
  {
   "cell_type": "code",
   "execution_count": 91,
   "metadata": {},
   "outputs": [],
   "source": [
    "class Pair:\n",
    "    def __init__(self, i, j, asf):\n",
    "        self.i=i\n",
    "        self.j=j\n",
    "        self.asf=asf\n",
    "def Gold_Path(m, n, arr):\n",
    "    dp=[[0 for j in range(n)]for i in range(m)]\n",
    "    #Filling the column-wise\n",
    "    for j in range(n-1, -1, -1):\n",
    "        for i in range(0, m, 1):\n",
    "            if j==n-1:\n",
    "                dp[i][j]=arr[i][j]\n",
    "            elif i==0:\n",
    "                dp[i][j]=arr[i][j]+max(dp[i][j+1], dp[i+1][j+1])\n",
    "            elif i==m-1:\n",
    "                dp[i][j]=arr[i][j]+max(dp[i][j+1], dp[i-1][j+1])\n",
    "            else:\n",
    "                dp[i][j]=arr[i][j]+max(dp[i-1][j+1], dp[i][j+1], dp[i+1][j+1])\n",
    "    #The maximum value in the first column indicates the maximum gold collected\n",
    "    maximum=-1          \n",
    "    for i in range(m):\n",
    "        if dp[i][0]>maximum:\n",
    "            maximum=dp[i][0]\n",
    "    asf=\" \"   \n",
    "    q=queue.Queue()\n",
    "    #Start appending all those value which have maximum value in the first column\n",
    "    for i in range(m):\n",
    "        if dp[i][0]==maximum:\n",
    "            q.put(Pair(i, 0, str(i)+asf))\n",
    "            \n",
    "            \n",
    "            \n",
    "    while q.empty() is False:\n",
    "        current=q.get()\n",
    "        \n",
    "        if current.j==n-1:\n",
    "            print(current.asf)\n",
    "            \n",
    "        elif current.i==0:\n",
    "            g = max(dp[current.i][current.j+1], dp[current.i+1][current.j+1])\n",
    "            if g==dp[current.i][current.j+1]:\n",
    "                q.put(Pair(current.i, current.j+1, current.asf+\"d2\"+\" \"))\n",
    "            else:\n",
    "                q.put(Pair(current.i+1, current.j+1, current.asf+\"d3\"+\" \"))\n",
    "                \n",
    "        elif current.i==m-1:\n",
    "            g = max(dp[current.i-1][current.j+1], dp[current.i][current.j+1])\n",
    "            if g==dp[current.i-1][current.j+1]:\n",
    "                 q.put(Pair(current.i-1, current.j+1, current.asf+\"d1\"+\" \"))\n",
    "            else:\n",
    "                q.put(Pair(current.i, current.j+1, current.asf+\"d2\"+\" \"))\n",
    "                \n",
    "        else:\n",
    "            g = max(dp[current.i-1][current.j+1], dp[current.i][current.j+1], dp[current.i+1][current.j+1])\n",
    "            if g==dp[current.i-1][current.j]:\n",
    "                 q.put(Pair(current.i-1, current.j+1, current.asf+\"d1\"+\" \"))\n",
    "            elif g==dp[current.i][current.j+1]:\n",
    "                q.put(Pair(current.i, current.j+1, current.asf+\"d1\"+\" \"))\n",
    "            else:\n",
    "                q.put(Pair(current.i+1, current.j+1, current.asf+\"d3\"+\" \"))\n",
    "                \n",
    "            \n",
    "            "
   ]
  },
  {
   "cell_type": "code",
   "execution_count": 92,
   "metadata": {},
   "outputs": [
    {
     "name": "stdout",
     "output_type": "stream",
     "text": [
      "4 d3 d1 d1 d3 d1 \n"
     ]
    }
   ],
   "source": [
    "m=6\n",
    "n=6\n",
    "a=[[0, 1, 4, 2, 8, 2],\n",
    "[4, 3, 6, 5, 0, 4],\n",
    "[1, 2, 4, 1, 4, 6],\n",
    "[2, 0, 7, 3, 2, 2],\n",
    "[3, 1, 5, 9, 2, 4],\n",
    "[2, 7, 0, 8, 5, 1]]\n",
    "Gold_Path(m,n,a)"
   ]
  },
  {
   "cell_type": "markdown",
   "metadata": {},
   "source": [
    "### KNAPSACK AND PRINTING THE SELECTED ITEMS"
   ]
  },
  {
   "cell_type": "code",
   "execution_count": 20,
   "metadata": {},
   "outputs": [],
   "source": [
    "import queue,sys\n",
    "class Pair:\n",
    "    def __init__(self, i, j, asf):\n",
    "        self.i=i\n",
    "        self.j=j\n",
    "        self.asf=asf\n",
    "        \n",
    "def printing_01_knapsack(n, values, weight, maxweight):\n",
    "    dp=[[0 for j in range(maxweight+1)]for i in range(n+1)]\n",
    "    for i in range(1, n+1):\n",
    "        for j in range(1, maxweight+1):\n",
    "            if weight[i-1]<=j:\n",
    "                dp[i][j]=max(values[i-1]+dp[i-1][j-weight[i-1]], dp[i-1][j])\n",
    "            else:\n",
    "                dp[i][j]=dp[i-1][j]\n",
    "                \n",
    "    print(dp[n][maxweight])\n",
    "    q=queue.Queue()\n",
    "    q.put(Pair(n, maxweight, \"\"))\n",
    "    \n",
    "    while q.empty() is False:\n",
    "        current=q.get()\n",
    "        \n",
    "        if current.i==0 or current.j==0:\n",
    "            print(current.asf)\n",
    "        else:\n",
    "            if current.j-weight[current.i-1]>=0:\n",
    "                inc=dp[current.i-1][current.j-weight[current.i-1]]+values[current.i-1]\n",
    "                if dp[current.i][current.j]==inc:\n",
    "                    q.put(Pair(current.i-1, current.j-weight[current.i-1], str(current.i-1) + \" \" + current.asf))\n",
    "                    \n",
    "            exc=dp[current.i-1][current.j]\n",
    "            \n",
    "            if dp[current.i][current.j]==exc:\n",
    "                q.put(Pair(current.i-1, current.j, current.asf))"
   ]
  },
  {
   "cell_type": "code",
   "execution_count": 21,
   "metadata": {},
   "outputs": [
    {
     "name": "stdout",
     "output_type": "stream",
     "text": [
      "75\n",
      "3 4 \n"
     ]
    }
   ],
   "source": [
    "v=[15, 14, 10, 45, 30]\n",
    "w=[2, 5, 1, 3, 4]\n",
    "m=7\n",
    "printing_01_knapsack(5, v, w, m)"
   ]
  },
  {
   "cell_type": "markdown",
   "metadata": {},
   "source": [
    "# PATTERN MATCHING"
   ]
  },
  {
   "cell_type": "markdown",
   "metadata": {},
   "source": [
    "### Wildcard Pattern Matching"
   ]
  },
  {
   "cell_type": "code",
   "execution_count": 140,
   "metadata": {},
   "outputs": [],
   "source": [
    "def WildcardMatching(string, pattern, m, n):\n",
    "    #n is length of pattern\n",
    "    #m is length of string\n",
    "    dp=[[-1 for j in range(m+1)] for i in range(n+1)]\n",
    "    for i in range(n, -1, -1):\n",
    "        for j in range(m, -1, -1):\n",
    "            #if characters are equal.\n",
    "            if i==n and j==m:\n",
    "                dp[i][j]=True\n",
    "                \n",
    "            elif i==n:\n",
    "                dp[i][j]=False\n",
    "                \n",
    "            elif j==m:\n",
    "                if pattern[i]=='*':\n",
    "                    dp[i][j]=dp[i+1][j]\n",
    "                else:\n",
    "                    dp[i][j]=False\n",
    "                \n",
    "            else:\n",
    "                if pattern[i]=='?':\n",
    "                    dp[i][j]=dp[i+1][j+1]   \n",
    "                elif pattern[i]==\"*\":\n",
    "                    dp[i][j] = dp[i][j+1] | dp[i+1][j] \n",
    "                elif pattern[i]==string[j]:\n",
    "                    dp[i][j]=dp[i+1][j+1]\n",
    "                else:\n",
    "                    dp[i][j]=False\n",
    "    return dp[0][0]\n",
    "    "
   ]
  },
  {
   "cell_type": "code",
   "execution_count": 141,
   "metadata": {},
   "outputs": [
    {
     "data": {
      "text/plain": [
       "True"
      ]
     },
     "execution_count": 141,
     "metadata": {},
     "output_type": "execute_result"
    }
   ],
   "source": [
    "s1='ccddee'\n",
    "s2='*ccddee*'\n",
    "WildcardMatching(s1, s2, len(s1), len(s2))"
   ]
  },
  {
   "cell_type": "code",
   "execution_count": 144,
   "metadata": {},
   "outputs": [],
   "source": [
    "def WildcardMatching_1(string, pattern, m, n):\n",
    "    #n is length of pattern\n",
    "    #m is length of string\n",
    "    dp=[[-1 for j in range(m+1)] for i in range(n+1)]\n",
    "    \n",
    "    for i in range(len(dp)-1, -1, -1):\n",
    "        for j in range(len(dp[0])-1, -1, -1):\n",
    "            #if characters are equal.\n",
    "            if i==len(dp)-1 and j==len(dp[0])-1:\n",
    "                dp[i][j]=True\n",
    "                \n",
    "            elif i==len(dp)-1:\n",
    "                dp[i][j]=False\n",
    "                \n",
    "            elif j==len(dp[0])-1:\n",
    "                if pattern[i]=='*':\n",
    "                    dp[i][j]=dp[i+1][j]\n",
    "                else:\n",
    "                    dp[i][j]=False\n",
    "                \n",
    "            else:\n",
    "                if pattern[i]=='?':\n",
    "                    dp[i][j]=dp[i+1][j+1]   \n",
    "                elif pattern[i]==\"*\":\n",
    "                    dp[i][j] = dp[i][j+1] | dp[i+1][j] \n",
    "                elif pattern[i]==string[j]:\n",
    "                    dp[i][j]=dp[i+1][j+1]\n",
    "                else:\n",
    "                    dp[i][j]=False\n",
    "    return dp[0][0]\n",
    "    "
   ]
  },
  {
   "cell_type": "code",
   "execution_count": 146,
   "metadata": {},
   "outputs": [
    {
     "data": {
      "text/plain": [
       "True"
      ]
     },
     "execution_count": 146,
     "metadata": {},
     "output_type": "execute_result"
    }
   ],
   "source": [
    "s1='ccddee'\n",
    "s2='*ccddee*'\n",
    "WildcardMatching_1(s1, s2, len(s1), len(s2))"
   ]
  },
  {
   "cell_type": "markdown",
   "metadata": {},
   "source": [
    "### REGULAR EXPRESSION MATCHING"
   ]
  },
  {
   "cell_type": "code",
   "execution_count": 88,
   "metadata": {},
   "outputs": [],
   "source": [
    "def Regular_Expression_Matching(pattern, string, m, n):\n",
    "    #m is length of pattern.\n",
    "    #n is the length of string.\n",
    "    dp=[[-1 for j in range(n+1)] for i in range(m+1)]\n",
    "    \n",
    "    for i in range(m+1):\n",
    "        for j in range(n+1):\n",
    "            #First block.\n",
    "            if i==0 and j==0:\n",
    "                dp[i][j]=True\n",
    "            #First row.\n",
    "            elif i==0:\n",
    "                dp[i][j]=False\n",
    "            #First Column\n",
    "            elif j==0:\n",
    "                if pattern[i-1]=='*':\n",
    "                    dp[i][j]=dp[i-2][j]\n",
    "                else:\n",
    "                    dp[i][j]=False\n",
    "            #Rest of the grid.\n",
    "            else:\n",
    "                pc=pattern[i-1]\n",
    "                sc=string[j-1]\n",
    "                \n",
    "                if pc=='.':\n",
    "                    dp[i][j]=dp[i-1][j-1]\n",
    "                elif pc=='*':\n",
    "                    pattern_second_last_character=pattern[i-2]\n",
    "                    dp[i][j]=dp[i-2][j]\n",
    "                    if (pattern_second_last_character==sc) or (pattern_second_last_character=='.'):\n",
    "                        dp[i][j] = dp[i][j] | dp[i][j-1]\n",
    "                elif pc==sc:\n",
    "                    dp[i][j]=dp[i-1][j-1] \n",
    "                else:\n",
    "                    dp[i][j]=False\n",
    "    return dp[m][n]"
   ]
  },
  {
   "cell_type": "code",
   "execution_count": 89,
   "metadata": {},
   "outputs": [
    {
     "data": {
      "text/plain": [
       "True"
      ]
     },
     "execution_count": 89,
     "metadata": {},
     "output_type": "execute_result"
    }
   ],
   "source": [
    "s=\"ab\"\n",
    "p=\".*\"\n",
    "Regular_Expression_Matching(p, s, len(p), len(s))"
   ]
  },
  {
   "cell_type": "markdown",
   "metadata": {},
   "source": [
    "# CATALAN NUMBERS"
   ]
  },
  {
   "cell_type": "code",
   "execution_count": 13,
   "metadata": {},
   "outputs": [],
   "source": [
    "def Catalan(n):\n",
    "    dp=[0 for i in range(n+1)]\n",
    "    dp[0]=1\n",
    "    for i in range(1, n+1):\n",
    "        for j in range(0, i):\n",
    "            dp[i] = dp[i] + dp[j]*dp[i-j-1]\n",
    "    return dp[n]"
   ]
  },
  {
   "cell_type": "code",
   "execution_count": 14,
   "metadata": {},
   "outputs": [
    {
     "data": {
      "text/plain": [
       "132"
      ]
     },
     "execution_count": 14,
     "metadata": {},
     "output_type": "execute_result"
    }
   ],
   "source": [
    "Catalan(6)"
   ]
  },
  {
   "cell_type": "raw",
   "metadata": {},
   "source": [
    "NUMBER OF BST'S\n",
    "NUMBER OF FULL BINARY TREES \n",
    "COUNT OF VALLEYS AND MOUNTAINS\n",
    "COUNT BRACKETS \n",
    "CIRCLE AND CHORDS\n",
    "NUMBER OF WAYS OF TRIANGULATING THE POLYGON\n",
    "MINIMUM SCORE OF TRIANGULATION"
   ]
  },
  {
   "cell_type": "markdown",
   "metadata": {},
   "source": [
    "### MINIMUM SCORE OF TRIANGULATION"
   ]
  },
  {
   "cell_type": "code",
   "execution_count": 3,
   "metadata": {},
   "outputs": [],
   "source": [
    "import sys\n",
    "def MinScore(n, arr):\n",
    "    dp=[[0 for j in range(n)]for i in range(n)]\n",
    "    \n",
    "    for g in range(0, n):\n",
    "        for i, j in zip(range(0, n), range(g, n)):\n",
    "            if g==0:\n",
    "                dp[i][j]=0\n",
    "            elif g==1:\n",
    "                dp[i][j]=0\n",
    "            elif g==2:\n",
    "                dp[i][j]=arr[i]*arr[i+1]*arr[i+2]\n",
    "            else:\n",
    "                ans=sys.maxsize\n",
    "                for k in range(i+1, j):\n",
    "                    left=dp[i][k]\n",
    "                    right=dp[k][j]\n",
    "                    main=arr[i]*arr[j]*arr[k]\n",
    "                    \n",
    "                    total=left+right+main\n",
    "                    ans=min(total, ans)\n",
    "                    \n",
    "                dp[i][j]=ans\n",
    "                \n",
    "    return dp[0][n-1]"
   ]
  }
 ],
 "metadata": {
  "kernelspec": {
   "display_name": "Python 3",
   "language": "python",
   "name": "python3"
  },
  "language_info": {
   "codemirror_mode": {
    "name": "ipython",
    "version": 3
   },
   "file_extension": ".py",
   "mimetype": "text/x-python",
   "name": "python",
   "nbconvert_exporter": "python",
   "pygments_lexer": "ipython3",
   "version": "3.8.5"
  }
 },
 "nbformat": 4,
 "nbformat_minor": 4
}
