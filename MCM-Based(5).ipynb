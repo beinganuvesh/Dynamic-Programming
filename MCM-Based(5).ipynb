{
 "cells": [
  {
   "cell_type": "code",
   "execution_count": 2,
   "metadata": {},
   "outputs": [],
   "source": [
    "import math, sys"
   ]
  },
  {
   "cell_type": "markdown",
   "metadata": {},
   "source": [
    "## MCM"
   ]
  },
  {
   "cell_type": "code",
   "execution_count": 3,
   "metadata": {},
   "outputs": [],
   "source": [
    "def MCM(arr, i, j):\n",
    "    #Base Case : If there is one element or there are no elements\n",
    "    if i>=j:\n",
    "        return 0\n",
    "    ans = sys.maxsize\n",
    "    for k in range(i, j):\n",
    "        smallerOutput = MCM(arr, i, k) +  MCM(arr, k+1, j) + arr[i-1]*arr[k]*arr[j]\n",
    "        ans = min(ans, smallerOutput)\n",
    "    return ans"
   ]
  },
  {
   "cell_type": "code",
   "execution_count": 4,
   "metadata": {},
   "outputs": [],
   "source": [
    "def MCM_(arr, i, j, dp):\n",
    "    #Base Case : If there is one element or there are no elements\n",
    "    if i>=j:\n",
    "        return 0\n",
    "    ans = sys.maxsize\n",
    "    \n",
    "    for k in range(i, j):\n",
    "        if dp[i][k]==-1:\n",
    "            smallerOutput1=MCM_(arr, i, k, dp)\n",
    "            dp[i][k]=smallerOutput1\n",
    "        else:\n",
    "            smallerOutput1=dp[i][k]\n",
    "        \n",
    "        if dp[k+1][j]==-1:\n",
    "            smallerOutput2 = MCM_(arr, k+1, j, dp)\n",
    "            dp[k+1][j] = smallerOutput2\n",
    "        else:\n",
    "            smallerOutput2 = dp[k+1][j]\n",
    "            \n",
    "        temp = smallerOutput1 + smallerOutput2 + (arr[i-1]*arr[k]*arr[j])\n",
    "        ans = min(ans, temp)\n",
    "        \n",
    "    return ans"
   ]
  },
  {
   "cell_type": "code",
   "execution_count": 5,
   "metadata": {},
   "outputs": [],
   "source": [
    "## GAP TECHNIQUE\n",
    "import sys\n",
    "def MCM_GAP(n, arr, i, j):\n",
    "    dp=[[0 for j in range(n-1)]for i in range(n-1)]\n",
    "    \n",
    "    for g in range(0, len(dp)):\n",
    "        for i, j in zip(range(0, len(dp)), range(g, len(dp))):\n",
    "            if g==0:\n",
    "                dp[i][j]=0\n",
    "            elif g==1:\n",
    "                dp[i][j]=arr[i]*arr[j]*arr[j+1]\n",
    "            else:\n",
    "                ans=sys.maxsize\n",
    "                for k in range(i, j):\n",
    "                    left=dp[i][k]\n",
    "                    right=dp[k+1][j]\n",
    "                    main=arr[i]*arr[k+1]*arr[j+1]\n",
    "                    total=left+right+main\n",
    "                    ans=min(ans, total)\n",
    "                    dp[i][j]=ans\n",
    "                    \n",
    "    return dp[0][len(dp)-1]        "
   ]
  },
  {
   "cell_type": "code",
   "execution_count": 6,
   "metadata": {},
   "outputs": [
    {
     "data": {
      "text/plain": [
       "8000"
      ]
     },
     "execution_count": 6,
     "metadata": {},
     "output_type": "execute_result"
    }
   ],
   "source": [
    "arr = [10, 15, 20, 25]\n",
    "n = len(arr)\n",
    "dp = [[-1 for j in range(n+1)]for i in range(n+1)]\n",
    "MCM_(arr, 1, n-1, dp)"
   ]
  },
  {
   "cell_type": "markdown",
   "metadata": {},
   "source": [
    "## Palindrone Partioning"
   ]
  },
  {
   "cell_type": "code",
   "execution_count": 24,
   "metadata": {},
   "outputs": [],
   "source": [
    "import sys\n",
    "def isPalindrone(s, i, j):\n",
    "    while i<=j:\n",
    "        if s[i]!=s[j]:\n",
    "            return False\n",
    "        i+=1\n",
    "        j-=1\n",
    "    return True\n",
    "\n",
    "def Palindrone_Partition(s, i, j):\n",
    "    #Base Cases.\n",
    "    if i>=j or isPalindrone(s, i, j):\n",
    "        return 0\n",
    "    \n",
    "    ans = sys.maxsize\n",
    "    for k in range(i, j):\n",
    "        t1 = Palindrone_Partition(s, i, k)\n",
    "        t2 = Palindrone_Partition(s, k+1, j)\n",
    "        t = 1+t1+t2\n",
    "        ans = min(ans, t)\n",
    "        \n",
    "    return ans"
   ]
  },
  {
   "cell_type": "code",
   "execution_count": 25,
   "metadata": {},
   "outputs": [
    {
     "data": {
      "text/plain": [
       "2"
      ]
     },
     "execution_count": 25,
     "metadata": {},
     "output_type": "execute_result"
    }
   ],
   "source": [
    "string = 'abccbc'\n",
    "n = len(string)\n",
    "Palindrone_Partition(string, 0, n-1)"
   ]
  },
  {
   "cell_type": "code",
   "execution_count": null,
   "metadata": {},
   "outputs": [],
   "source": []
  },
  {
   "cell_type": "code",
   "execution_count": null,
   "metadata": {},
   "outputs": [],
   "source": []
  },
  {
   "cell_type": "markdown",
   "metadata": {},
   "source": [
    "## Boolean Parenthesization to True"
   ]
  },
  {
   "cell_type": "code",
   "execution_count": 26,
   "metadata": {},
   "outputs": [],
   "source": [
    "def Boolean_Parenthesization(s, i, j, isTrue):\n",
    "    #Base Case\n",
    "    if i>j:\n",
    "        return False\n",
    "    if i==j:\n",
    "        if isTrue == True:\n",
    "            return s[i]=='T'\n",
    "        else:\n",
    "            return s[i]=='F'\n",
    "        \n",
    "    ans=0  \n",
    "    for k in range(i+1, j, 2):\n",
    "        LT=Boolean_Parenthesization(s, i, k-1, True)\n",
    "        LF=Boolean_Parenthesization(s, i, k-1, False)\n",
    "        RT=Boolean_Parenthesization(s, k+1, j, True)\n",
    "        RF=Boolean_Parenthesization(s, k+1, j, False)\n",
    "        \n",
    "        #Checking the number of possibilites.\n",
    "        if s[k]=='&':\n",
    "            if isTrue==True:\n",
    "                ans+= LT*RT\n",
    "            else:\n",
    "                ans+=(LF*RF)+(LF*RT)+(LT*RF)\n",
    "        elif s[k]=='|':\n",
    "            if isTrue==True:\n",
    "                ans+= LT*RT + LT*RF + LF*RT\n",
    "            else:\n",
    "                ans+= LF*RF\n",
    "        elif s[k]=='^':\n",
    "            if isTrue==True:\n",
    "                ans+= LT*RF + LF*RT\n",
    "            else:\n",
    "                ans+= LT*RT + LF*RF\n",
    "                \n",
    "    return ans"
   ]
  },
  {
   "cell_type": "code",
   "execution_count": 27,
   "metadata": {},
   "outputs": [
    {
     "data": {
      "text/plain": [
       "4"
      ]
     },
     "execution_count": 27,
     "metadata": {},
     "output_type": "execute_result"
    }
   ],
   "source": [
    "s='T|T&F^T'\n",
    "Boolean_Parenthesization(s, 0, len(s)-1, True)"
   ]
  },
  {
   "cell_type": "code",
   "execution_count": 13,
   "metadata": {},
   "outputs": [],
   "source": [
    "def Boolean_Parenthesization_Memo(s, i, j, isTrue, d):\n",
    "    #Base Case\n",
    "    if i>j:\n",
    "        return False\n",
    "    if i==j:\n",
    "        if isTrue == True:\n",
    "            return s[i]=='T'\n",
    "        else:\n",
    "            return s[i]=='F'\n",
    "        \n",
    "    ans=0\n",
    "    temp = str(i)+str(j)+str(isTrue)\n",
    "    if temp in d:\n",
    "        ans=d[temp]\n",
    "        return ans\n",
    "    else:\n",
    "        for k in range(i+1, j, 2):\n",
    "                LT=Boolean_Parenthesization_Memo(s, i, k-1, True, d)\n",
    "                LF=Boolean_Parenthesization_Memo(s, i, k-1, False, d)\n",
    "                RT=Boolean_Parenthesization_Memo(s, k+1, j, True, d)\n",
    "                RF=Boolean_Parenthesization_Memo(s, k+1, j, False, d)\n",
    "\n",
    "                #Checking the number of possibilites.\n",
    "                if s[k]=='&':\n",
    "                    if isTrue==True:\n",
    "                        ans+= LT*RT\n",
    "                    else:\n",
    "                        ans+=(LF*RF)+(LF*RT)+(LT*RF)\n",
    "                elif s[k]=='|':\n",
    "                    if isTrue==True:\n",
    "                        ans+= LT*RT + LT*RF + LF*RT\n",
    "                    else:\n",
    "                        ans+= LF*RF\n",
    "                elif s[k]=='^':\n",
    "                    if isTrue==True:\n",
    "                        ans+= LT*RF + LF*RT\n",
    "                    else:\n",
    "                        ans+= LT*RT + LF*RF\n",
    "                d[temp]=ans\n",
    "                \n",
    "    return ans"
   ]
  },
  {
   "cell_type": "code",
   "execution_count": 14,
   "metadata": {},
   "outputs": [
    {
     "data": {
      "text/plain": [
       "4"
      ]
     },
     "execution_count": 14,
     "metadata": {},
     "output_type": "execute_result"
    }
   ],
   "source": [
    "t='T|T&F^T'\n",
    "Boolean_Parenthesization_Memo(t, 0, len(t)-1, True, {})"
   ]
  },
  {
   "cell_type": "markdown",
   "metadata": {},
   "source": [
    "## Scrambled Strings"
   ]
  },
  {
   "cell_type": "code",
   "execution_count": 15,
   "metadata": {},
   "outputs": [],
   "source": [
    "def Scrambled(a, b):\n",
    "    #Base Case\n",
    "    if a==b:\n",
    "        return True\n",
    "    if len(a)<=1 or len(b)<=1:\n",
    "        return False\n",
    "    \n",
    "    flag=False\n",
    "    for i in range(1, len(a)):\n",
    "        c1 = Scrambled(a[0:i], b[0:i]) and Scrambled(a[i:], b[i:])\n",
    "        c2 = Scrambled(a[0:i], b[len(a)-i:]) and Scrambled(a[i:], b[0:len(a)-i])\n",
    "        \n",
    "        if (c1 or c2):\n",
    "            flag=True\n",
    "            break\n",
    "            \n",
    "    return flag\n",
    "        "
   ]
  },
  {
   "cell_type": "code",
   "execution_count": 16,
   "metadata": {},
   "outputs": [
    {
     "data": {
      "text/plain": [
       "False"
      ]
     },
     "execution_count": 16,
     "metadata": {},
     "output_type": "execute_result"
    }
   ],
   "source": [
    "a='abcde'\n",
    "b='caebd'\n",
    "Scrambled(a,b)"
   ]
  },
  {
   "cell_type": "code",
   "execution_count": 17,
   "metadata": {},
   "outputs": [],
   "source": [
    "global d\n",
    "def Scrambled_Memo(a, b):\n",
    "    d={}\n",
    "    #Base Case\n",
    "    if a==b:\n",
    "        return True\n",
    "    if len(a)<=1 or len(b)<=1:\n",
    "        return False\n",
    "    \n",
    "    key=a+b\n",
    "    if key in d:\n",
    "        return d[key]\n",
    "    \n",
    "    flag=False\n",
    "    for i in range(1, len(a)):\n",
    "        c1 = Scrambled_Memo(a[0:i], b[0:i]) and Scrambled_Memo(a[i:], b[i:])\n",
    "        c2 = Scrambled_Memo(a[0:i], b[len(a)-i:]) and Scrambled_Memo(a[i:], b[0:len(a)-i])\n",
    "        if (c1 or c2):\n",
    "            flag=True\n",
    "            break\n",
    "            \n",
    "    d[key]=flag\n",
    "    return flag\n",
    "        "
   ]
  },
  {
   "cell_type": "code",
   "execution_count": 18,
   "metadata": {},
   "outputs": [
    {
     "data": {
      "text/plain": [
       "False"
      ]
     },
     "execution_count": 18,
     "metadata": {},
     "output_type": "execute_result"
    }
   ],
   "source": [
    "a='abcde'\n",
    "b='caebd'\n",
    "Scrambled_Memo(a,b)"
   ]
  },
  {
   "cell_type": "code",
   "execution_count": 12,
   "metadata": {},
   "outputs": [
    {
     "data": {
      "text/plain": [
       "'abcde caebd'"
      ]
     },
     "execution_count": 12,
     "metadata": {},
     "output_type": "execute_result"
    }
   ],
   "source": [
    "a+\" \"+b"
   ]
  },
  {
   "cell_type": "markdown",
   "metadata": {},
   "source": [
    "## EGG-DROPPING"
   ]
  },
  {
   "cell_type": "code",
   "execution_count": 19,
   "metadata": {},
   "outputs": [],
   "source": [
    "import sys\n",
    "def eggDropping(e, f):\n",
    "        if f==0 or f==1:\n",
    "          return f\n",
    "        if e==1:\n",
    "          return f\n",
    "        \n",
    "        ans=sys.maxsize\n",
    "        for k in range(1, f+1):\n",
    "          \n",
    "          c1 = eggDropping(e-1, k-1)\n",
    "          c2 = eggDropping(e, f-k)\n",
    "          \n",
    "          temp=1+max(c1,c2)\n",
    "          ans=min(temp, ans)\n",
    "          \n",
    "        return ans"
   ]
  },
  {
   "cell_type": "code",
   "execution_count": 20,
   "metadata": {},
   "outputs": [
    {
     "data": {
      "text/plain": [
       "4"
      ]
     },
     "execution_count": 20,
     "metadata": {},
     "output_type": "execute_result"
    }
   ],
   "source": [
    "eggDropping(2, 10)"
   ]
  },
  {
   "cell_type": "code",
   "execution_count": 21,
   "metadata": {},
   "outputs": [],
   "source": [
    "import sys\n",
    "def eggDropping_Memo(e, f, dp):\n",
    "        if f==0 or f==1:\n",
    "            return f\n",
    "        if e==1:\n",
    "            return f\n",
    "        \n",
    "        ans=sys.maxsize\n",
    "        for k in range(1, f+1):\n",
    "            \n",
    "            if dp[e-1][k-1]==-1:\n",
    "                c1 = eggDropping_Memo(e-1, k-1, dp)\n",
    "                dp[e-1][k-1]=c1\n",
    "            else:\n",
    "                c1=dp[e-1][k-1]\n",
    "\n",
    "            if dp[e][f-k]==-1:\n",
    "                c2 = eggDropping_Memo(e, f-k, dp)\n",
    "                dp[e][f-k]=c2\n",
    "            else:\n",
    "                c2=dp[e][f-k]\n",
    "\n",
    "            temp=1+max(c1,c2)\n",
    "            ans=min(temp, ans)\n",
    "            \n",
    "        return ans"
   ]
  },
  {
   "cell_type": "code",
   "execution_count": 22,
   "metadata": {},
   "outputs": [
    {
     "data": {
      "text/plain": [
       "5"
      ]
     },
     "execution_count": 22,
     "metadata": {},
     "output_type": "execute_result"
    }
   ],
   "source": [
    "e=3\n",
    "f=25\n",
    "dp=[[-1 for j in range(e+f)] for i in range(e+f)]\n",
    "eggDropping_Memo(e, f, dp)"
   ]
  },
  {
   "cell_type": "raw",
   "metadata": {},
   "source": [
    "USING BINARY SEARCH INSTEAD OF LINEAR SEARCH"
   ]
  },
  {
   "cell_type": "code",
   "execution_count": 23,
   "metadata": {},
   "outputs": [],
   "source": [
    "def SuperEggDrop(e, f, dp):\n",
    "        d={}\n",
    "        if f==0 or f==1:\n",
    "          return f\n",
    "        if e==1:\n",
    "          return f\n",
    "        \n",
    "\n",
    "        ans=sys.maxsize\n",
    "        low=1\n",
    "        end=f\n",
    "        while low<=end:\n",
    "          mid=(low+end)//2\n",
    "          \n",
    "          if dp[e-1][mid-1]==-1:\n",
    "            c1 = SuperEggDrop(e-1, mid-1, dp)\n",
    "            dp[e-1][mid-1]=c1\n",
    "          else:\n",
    "            c1=dp[e-1][mid-1]\n",
    "            \n",
    "          if dp[e][f-mid]==-1:\n",
    "            c2 = SuperEggDrop(e, f-mid, dp)\n",
    "            dp[e][f-mid]=c2\n",
    "          else:\n",
    "            c2=dp[e][f-mid]\n",
    "          \n",
    "          temp=1+max(c1,c2)\n",
    "          ans=min(temp, ans)\n",
    "          \n",
    "          if c1==c2:\n",
    "            break\n",
    "          elif c1<c2:\n",
    "            low=mid+1\n",
    "          else:\n",
    "            end=mid-1\n",
    "          \n",
    "        return ans"
   ]
  }
 ],
 "metadata": {
  "kernelspec": {
   "display_name": "Python 3",
   "language": "python",
   "name": "python3"
  },
  "language_info": {
   "codemirror_mode": {
    "name": "ipython",
    "version": 3
   },
   "file_extension": ".py",
   "mimetype": "text/x-python",
   "name": "python",
   "nbconvert_exporter": "python",
   "pygments_lexer": "ipython3",
   "version": "3.8.5"
  }
 },
 "nbformat": 4,
 "nbformat_minor": 4
}
