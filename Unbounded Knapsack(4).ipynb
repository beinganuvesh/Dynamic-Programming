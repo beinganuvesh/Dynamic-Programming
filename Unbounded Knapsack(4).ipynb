{
 "cells": [
  {
   "cell_type": "code",
   "execution_count": 8,
   "metadata": {},
   "outputs": [],
   "source": [
    "import sys"
   ]
  },
  {
   "cell_type": "markdown",
   "metadata": {},
   "source": [
    "## UNBOUNDED KNAPSACK"
   ]
  },
  {
   "cell_type": "code",
   "execution_count": 1,
   "metadata": {},
   "outputs": [],
   "source": [
    "def Unbounded_Knap_Dp(arr, n, k):\n",
    "    dp = [[0 for j in range(k+1)] for i in range(n+1)]\n",
    "    \n",
    "    for i in range(1, n+1):\n",
    "        for j in range(1, k+1):\n",
    "            if arr[i-1]<=j: \n",
    "                a1 = arr[i-1] + dp[i][j-arr[i-1]] #If we have included the element, it can be included once more.\n",
    "                a2 = dp[i-1][j] #If it is not included, discard it forever.\n",
    "                dp[i][j] = max(a1, a2)\n",
    "            else: \n",
    "                dp[i][j] = dp[i-1][j]\n",
    "    \n",
    "    return dp[n][k]"
   ]
  },
  {
   "cell_type": "markdown",
   "metadata": {},
   "source": [
    "## ROD CUTTING"
   ]
  },
  {
   "cell_type": "code",
   "execution_count": 4,
   "metadata": {},
   "outputs": [],
   "source": [
    "def Rod_Cutting(N, length, price):\n",
    "    dp=[[0 for j in range(N+1)] for i in range(N+1)]\n",
    "    \n",
    "    for i in range(1, N+1):\n",
    "        for j in range(1, N+1):\n",
    "            if length[i-1]<=j:\n",
    "                a1 = dp[i-1][j]\n",
    "                a2 = price[i-1] + dp[i][j-length[i-1]]\n",
    "                dp[i][j] = max(a1, a2)\n",
    "            else:\n",
    "                dp[i][j] = dp[i-1][j]\n",
    "    return dp[N][N]"
   ]
  },
  {
   "cell_type": "code",
   "execution_count": 51,
   "metadata": {},
   "outputs": [
    {
     "data": {
      "text/plain": [
       "24"
      ]
     },
     "execution_count": 51,
     "metadata": {},
     "output_type": "execute_result"
    }
   ],
   "source": [
    "N=8\n",
    "length=[int(i) for i in range(1, N+1)]\n",
    "prices = [3  , 5 ,  8 ,  9 , 10 , 17,  17, 20]\n",
    "Rod_Cutting(N, length, prices)"
   ]
  },
  {
   "cell_type": "markdown",
   "metadata": {},
   "source": [
    "## COIN CHANGE (MAXIMUM NUMBER OF WAYS)"
   ]
  },
  {
   "cell_type": "code",
   "execution_count": 2,
   "metadata": {},
   "outputs": [],
   "source": [
    " def change(amount, coins):\n",
    "        n = len(coins)\n",
    "        dp = [[0 for j in range(amount+1)]for i in range(n+1)]\n",
    "        #Initializing first row. If amount is 0, then there is 1 number of way of not choosing anything.\n",
    "        for i in range(n+1):\n",
    "          dp[i][0]=1\n",
    "          \n",
    "        for i in range(1, n+1):\n",
    "          for j in range(1, amount+1):\n",
    "            if coins[i-1]<=j:\n",
    "              a1 = dp[i][j-coins[i-1]]\n",
    "              a2 = dp[i-1][j]\n",
    "              dp[i][j] = a1+a2\n",
    "            else:\n",
    "              dp[i][j] = dp[i-1][j]\n",
    "              \n",
    "        return dp[n][amount]"
   ]
  },
  {
   "cell_type": "markdown",
   "metadata": {},
   "source": [
    "## COIN CHANGE (MINMUM NUMBER OF COINS)**"
   ]
  },
  {
   "cell_type": "code",
   "execution_count": 3,
   "metadata": {},
   "outputs": [],
   "source": [
    "    def coinChange(coins, amount):\n",
    "        n = len(coins)\n",
    "        dp = [[0 for j in range(amount+1)] for i in range(n+1)]\n",
    "        #Initializing first column.\n",
    "        for i in range(n+1):\n",
    "          dp[i][0]=0\n",
    "          \n",
    "        #Initailizing first row.\n",
    "        for j in range(amount+1):\n",
    "          dp[0][j]=sys.maxsize-1\n",
    "          \n",
    "        #Filling the second row\n",
    "        for j in range(1, amount+1):\n",
    "          if j%(coins[0])==0:\n",
    "            dp[1][j]= int( j//coins[0])\n",
    "          else:\n",
    "            dp[1][j]= sys.maxsize-1\n",
    "       \n",
    "        for i in range(2, n+1):\n",
    "          for j in range(1, amount+1):\n",
    "            if coins[i-1]<=j:\n",
    "              a1 = 1 + dp[i][j-coins[i-1]]\n",
    "              a2 = dp[i-1][j]\n",
    "              dp[i][j] = min(a1,a2)\n",
    "            else:\n",
    "              dp[i][j] = dp[i-1][j]\n",
    "              \n",
    "        return dp"
   ]
  },
  {
   "cell_type": "code",
   "execution_count": 9,
   "metadata": {
    "scrolled": true
   },
   "outputs": [
    {
     "data": {
      "text/plain": [
       "[[9223372036854775806,\n",
       "  9223372036854775806,\n",
       "  9223372036854775806,\n",
       "  9223372036854775806,\n",
       "  9223372036854775806,\n",
       "  9223372036854775806,\n",
       "  9223372036854775806,\n",
       "  9223372036854775806,\n",
       "  9223372036854775806,\n",
       "  9223372036854775806,\n",
       "  9223372036854775806,\n",
       "  9223372036854775806],\n",
       " [0,\n",
       "  9223372036854775806,\n",
       "  1,\n",
       "  9223372036854775806,\n",
       "  2,\n",
       "  9223372036854775806,\n",
       "  3,\n",
       "  9223372036854775806,\n",
       "  4,\n",
       "  9223372036854775806,\n",
       "  5,\n",
       "  9223372036854775806],\n",
       " [0, 9223372036854775806, 1, 9223372036854775806, 2, 1, 3, 2, 4, 3, 2, 4],\n",
       " [0, 9223372036854775806, 1, 9223372036854775806, 2, 1, 3, 2, 4, 3, 1, 4],\n",
       " [0, 1, 1, 2, 2, 1, 2, 2, 3, 3, 1, 2]]"
      ]
     },
     "execution_count": 9,
     "metadata": {},
     "output_type": "execute_result"
    }
   ],
   "source": [
    "coins = [2,5,10,1]\n",
    "amount=27\n",
    "coinChange(coins, 11)"
   ]
  }
 ],
 "metadata": {
  "kernelspec": {
   "display_name": "Python 3",
   "language": "python",
   "name": "python3"
  },
  "language_info": {
   "codemirror_mode": {
    "name": "ipython",
    "version": 3
   },
   "file_extension": ".py",
   "mimetype": "text/x-python",
   "name": "python",
   "nbconvert_exporter": "python",
   "pygments_lexer": "ipython3",
   "version": "3.7.4"
  }
 },
 "nbformat": 4,
 "nbformat_minor": 4
}
