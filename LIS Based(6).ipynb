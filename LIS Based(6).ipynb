{
 "cells": [
  {
   "cell_type": "code",
   "execution_count": 2,
   "metadata": {},
   "outputs": [],
   "source": [
    "import operator\n",
    "import numpy as np"
   ]
  },
  {
   "cell_type": "markdown",
   "metadata": {},
   "source": [
    "## PRINTING ALL PATHS WITH LIS"
   ]
  },
  {
   "cell_type": "code",
   "execution_count": 41,
   "metadata": {},
   "outputs": [],
   "source": [
    "class Pair:\n",
    "    def __init__(self, l, idx, value, asf):\n",
    "        self.l=l\n",
    "        self.idx=idx\n",
    "        self.value=value\n",
    "        self.asf=asf\n",
    "\n",
    "def LIS_Printing(n, arr):\n",
    "    dp=[1 for i in range(n)]\n",
    "    for i in range(1, n):\n",
    "        for j in range(0, i):\n",
    "            if arr[i]>arr[j] and dp[j]+1>dp[i]:\n",
    "                dp[i]=dp[j]+1\n",
    "           \n",
    "    l=max(dp)     \n",
    "    idx=dp.index(l)\n",
    "    value=dp[idx]\n",
    "    ans=\"\"\n",
    "    \n",
    "    q=queue.Queue()\n",
    "    \n",
    "    for i in range(len(dp)):\n",
    "        if dp[i]==l:\n",
    "            q.put(Pair(l, i, arr[i], ans+str(arr[i])))\n",
    "    \n",
    "    while q.empty() is False:\n",
    "        current=q.get()\n",
    "        if current.l==1:\n",
    "            print(current.asf+\" \")\n",
    "        \n",
    "        for i in range(current.idx):\n",
    "            if dp[i]==current.l-1 and arr[i]<current.value:\n",
    "                child=Pair(dp[i], i, arr[i], str(arr[i]) + \"->\" + current.asf)\n",
    "                q.put(child)"
   ]
  },
  {
   "cell_type": "code",
   "execution_count": 40,
   "metadata": {},
   "outputs": [
    {
     "name": "stdout",
     "output_type": "stream",
     "text": [
      "10->22->33->50->60->80 \n",
      "10->22->33->41->60->80 \n"
     ]
    }
   ],
   "source": [
    "n=10\n",
    "a=[10, 22, 9, 33, 21, 50, 41, 60, 80, 1]\n",
    "LIS_Printing(n, a)"
   ]
  },
  {
   "cell_type": "markdown",
   "metadata": {},
   "source": [
    "## LIS"
   ]
  },
  {
   "cell_type": "code",
   "execution_count": 1,
   "metadata": {},
   "outputs": [],
   "source": [
    "#O(n^2)\n",
    "def LIS(arr):\n",
    "    n=len(arr)\n",
    "    dp=[1 for i in range(n+1)]\n",
    "    dp[0]=1\n",
    "    for i in range(1, n):\n",
    "        for j in range(0, i):\n",
    "            if arr[i]>=arr[j] and dp[j]+1>dp[i]:\n",
    "                dp[i]=dp[j]+1              \n",
    "    return max(dp)"
   ]
  },
  {
   "cell_type": "code",
   "execution_count": 4,
   "metadata": {},
   "outputs": [],
   "source": [
    "#O(nlogn)\n",
    "def LIS_BinarySearch(arr):\n",
    "    n=len(arr)\n",
    "    tails=[0 for i in range(n)]\n",
    "    size=0\n",
    "    \n",
    "    for x in arr:\n",
    "        low=0\n",
    "        high=size\n",
    "        while low<high:\n",
    "            mid=low+(high-low)//2\n",
    "            if tails[mid]<x:\n",
    "                low=mid+1\n",
    "            else:\n",
    "                high=mid\n",
    "        \n",
    "        tails[low]=x\n",
    "        size=max(size, low+1)\n",
    "        \n",
    "    return size"
   ]
  },
  {
   "cell_type": "code",
   "execution_count": 5,
   "metadata": {},
   "outputs": [
    {
     "data": {
      "text/plain": [
       "6"
      ]
     },
     "execution_count": 5,
     "metadata": {},
     "output_type": "execute_result"
    }
   ],
   "source": [
    "a=[10,22,9,33,21,50,41,60,80,1]\n",
    "LIS_BinarySearch(a)"
   ]
  },
  {
   "cell_type": "markdown",
   "metadata": {},
   "source": [
    "## Longest Decreasing Subsequence (LDS)"
   ]
  },
  {
   "cell_type": "code",
   "execution_count": 202,
   "metadata": {},
   "outputs": [],
   "source": [
    "def LDS(arr):\n",
    "    n=len(arr)\n",
    "    dp=[1 for i in range(n+1)]\n",
    "    for i in range(1, n):\n",
    "        for j in range(0, i):\n",
    "            if arr[i]<=arr[j]: #Just change the sign here!\n",
    "                if dp[j]+1>dp[i]:\n",
    "                    dp[i]=dp[j]+1              \n",
    "    return max(dp)"
   ]
  },
  {
   "cell_type": "markdown",
   "metadata": {},
   "source": [
    "## Maximum Sum LIS"
   ]
  },
  {
   "cell_type": "code",
   "execution_count": 97,
   "metadata": {},
   "outputs": [],
   "source": [
    "def maxSumIS(arr):\n",
    "        n=len(arr)\n",
    "        dp=[0 for i in range(n)]\n",
    "        for i in range(n):\n",
    "            dp[i]=arr[i]\n",
    "            \n",
    "        for i in range(1, n):\n",
    "            for j in range(0, i):\n",
    "                if arr[i]>=arr[j]:\n",
    "                    if dp[j]+arr[i]>dp[i]:\n",
    "                        dp[i]=dp[j]+arr[i]\n",
    "        return max(dp)"
   ]
  },
  {
   "cell_type": "code",
   "execution_count": 95,
   "metadata": {},
   "outputs": [],
   "source": [
    "b=[2,7,4,3,8]"
   ]
  },
  {
   "cell_type": "code",
   "execution_count": 96,
   "metadata": {},
   "outputs": [
    {
     "data": {
      "text/plain": [
       "255"
      ]
     },
     "execution_count": 96,
     "metadata": {},
     "output_type": "execute_result"
    }
   ],
   "source": [
    "maxSumIS(a)"
   ]
  },
  {
   "cell_type": "markdown",
   "metadata": {},
   "source": [
    "## Longest Bitonic Subsequence"
   ]
  },
  {
   "cell_type": "code",
   "execution_count": 139,
   "metadata": {},
   "outputs": [],
   "source": [
    "def Bitonic(arr):\n",
    "    n=len(arr)\n",
    "    dp_increasing = [1 for i in range(n)]\n",
    "    dp_decreasing = [1 for i in range(n)]\n",
    "    \n",
    "    #Calculating lIS form left to right.\n",
    "    for i in range(1, n):\n",
    "        for j in range(0, i):\n",
    "            if arr[i]>=arr[j]:\n",
    "                if dp_increasing[j]+1>=dp_increasing[i]:\n",
    "                    dp_increasing[i]=dp_increasing[j]+1\n",
    "                    \n",
    "    #Calculating LDS from right to left\n",
    "    for i in range(n-2, -1, -1):\n",
    "        for j in range(n-1, i, -1):\n",
    "            if arr[i]>=arr[j]:\n",
    "                if dp_decreasing[j]+1>=dp_decreasing[i]:\n",
    "                    dp_decreasing[i]=dp_decreasing[j]+1\n",
    "    dp = [0 for i in range(n)]    \n",
    "    for i in range(n):\n",
    "        dp[i] = dp_decreasing[i] + dp_increasing[i] - 1\n",
    "        \n",
    "    return max(dp)"
   ]
  },
  {
   "cell_type": "code",
   "execution_count": 140,
   "metadata": {},
   "outputs": [
    {
     "data": {
      "text/plain": [
       "8"
      ]
     },
     "execution_count": 140,
     "metadata": {},
     "output_type": "execute_result"
    }
   ],
   "source": [
    "c=[10,10,22,9,33,21,50,41,60,80,1]\n",
    "Bitonic(c)"
   ]
  },
  {
   "cell_type": "markdown",
   "metadata": {},
   "source": [
    "## Number of Non-overlapping Bridges"
   ]
  },
  {
   "cell_type": "code",
   "execution_count": 141,
   "metadata": {},
   "outputs": [
    {
     "name": "stdout",
     "output_type": "stream",
     "text": [
      "10\n",
      "10 20\n",
      "2 7\n",
      "8 15\n",
      "17 3\n",
      "21 40\n",
      "50 4\n",
      "41 57\n",
      "60 80\n",
      "80 90\n",
      "1 30\n"
     ]
    }
   ],
   "source": [
    "n=int(input())\n",
    "lst=[]\n",
    "for i in range(n):\n",
    "    new_row = [int(i) for i in input().split()]\n",
    "    lst.append(new_row)"
   ]
  },
  {
   "cell_type": "code",
   "execution_count": 169,
   "metadata": {},
   "outputs": [],
   "source": [
    "def Non_Overlapping_Bridges(arr):\n",
    "    n=len(arr)\n",
    "    #Sorting the array on the basis of north bank. If north bank is equal, then sort on south bank,\n",
    "    new = sorted(arr, key=operator.itemgetter(0,1))\n",
    "    dp=[1 for i in range(n)]\n",
    "    #Applying LIS on the basis of south bank.\n",
    "    for i in range(1, n):\n",
    "        for j in range(0, i):\n",
    "            if new[i][1]>=new[j][1] and dp[j]+1>=dp[i]:\n",
    "                dp[i]=dp[j]+1\n",
    "    return max(dp)"
   ]
  },
  {
   "cell_type": "code",
   "execution_count": 170,
   "metadata": {},
   "outputs": [
    {
     "data": {
      "text/plain": [
       "7"
      ]
     },
     "execution_count": 170,
     "metadata": {},
     "output_type": "execute_result"
    }
   ],
   "source": [
    "Non_Overlapping_Bridges(lst)"
   ]
  },
  {
   "cell_type": "markdown",
   "metadata": {},
   "source": [
    "## Russian Doll Envelopes"
   ]
  },
  {
   "cell_type": "code",
   "execution_count": 171,
   "metadata": {},
   "outputs": [
    {
     "name": "stdout",
     "output_type": "stream",
     "text": [
      "11\n",
      "17 5\n",
      "26 18\n",
      "25 34\n",
      "48 84\n",
      "63 72\n",
      "42 86\n",
      "9 55\n",
      "4 70\n",
      "21 45\n",
      "68 76\n",
      "58 51\n"
     ]
    }
   ],
   "source": [
    "n=int(input())\n",
    "l=[]\n",
    "for i in range(n):\n",
    "    new_row = [int(i) for i in input().split()]\n",
    "    l.append(new_row)"
   ]
  },
  {
   "cell_type": "code",
   "execution_count": 221,
   "metadata": {},
   "outputs": [],
   "source": [
    "def Russian_Doll(arr):\n",
    "    n=len(arr)\n",
    "    #Sorting on the basis of width.\n",
    "    new = sorted(arr, key=operator.itemgetter(0))\n",
    "    dp=[1 for i in range(n)]\n",
    "    #Now applying LIS on basis of height.\n",
    "    for i in range(1, n):\n",
    "        for j in range(0, i):\n",
    "            if new[i][1]>new[j][1] and dp[j]+1>dp[i]:\n",
    "                dp[i]=dp[j]+1\n",
    "                \n",
    "    return max(dp)"
   ]
  },
  {
   "cell_type": "code",
   "execution_count": 219,
   "metadata": {},
   "outputs": [
    {
     "data": {
      "text/plain": [
       "5"
      ]
     },
     "execution_count": 219,
     "metadata": {},
     "output_type": "execute_result"
    }
   ],
   "source": [
    "Russian_Doll(l)"
   ]
  }
 ],
 "metadata": {
  "kernelspec": {
   "display_name": "Python 3",
   "language": "python",
   "name": "python3"
  },
  "language_info": {
   "codemirror_mode": {
    "name": "ipython",
    "version": 3
   },
   "file_extension": ".py",
   "mimetype": "text/x-python",
   "name": "python",
   "nbconvert_exporter": "python",
   "pygments_lexer": "ipython3",
   "version": "3.8.5"
  }
 },
 "nbformat": 4,
 "nbformat_minor": 4
}
