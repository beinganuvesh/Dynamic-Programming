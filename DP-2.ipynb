{
 "cells": [
  {
   "cell_type": "code",
   "execution_count": 13,
   "metadata": {},
   "outputs": [],
   "source": [
    "def LCS_Memo(a1, a2, i, j, l1, l2, dp):\n",
    "    if i>=l1 or j>=l2:\n",
    "        return []\n",
    "    \n",
    "    if a1[i]==a2[j]:\n",
    "        if dp[i+1][j+1]==-1:\n",
    "            smallerOutput = LCS_Memo(a1, a2, i+1, j+1, l1, l2, dp)\n",
    "            smallerOutput.append(a1[i])\n",
    "            dp[i+1][j+1] = smallerOutput\n",
    "            return smallerOutput\n",
    "        else:\n",
    "            smallerOutput = dp[i+1][j+1]\n",
    "            return smallerOutput\n",
    "        \n",
    "    else:\n",
    "        if dp[i+1][j]==-1:\n",
    "            s1 = LCS_Memo(a1, a2, i+1, j, l1, l2, dp)\n",
    "            dp[i+1][j]=s1\n",
    "        else:\n",
    "            s1 = dp[i+1][j]\n",
    "        \n",
    "        if dp[i][j+1]==-1:\n",
    "            s2 = LCS_Memo(a1, a2, i, j+1, l1, l2, dp)\n",
    "            dp[i][j+1]=s2\n",
    "        else:\n",
    "            s2 = dp[i][j+1]\n",
    "    \n",
    "        if len(s1)>=len(s2):\n",
    "            return s1\n",
    "        else:\n",
    "            return s2"
   ]
  },
  {
   "cell_type": "code",
   "execution_count": 14,
   "metadata": {},
   "outputs": [
    {
     "data": {
      "text/plain": [
       "[1, 4, 3]"
      ]
     },
     "execution_count": 14,
     "metadata": {},
     "output_type": "execute_result"
    }
   ],
   "source": [
    "a1 = [1, 2, 3, 4, 1]\n",
    "a2 = [3, 4, 1, 2, 1, 3]\n",
    "l1 = len(a1)\n",
    "l2 = len(a2)\n",
    "dp = [[-1 for j in range(l2+1)]for i in range(l1+1)]\n",
    "LCS_Memo(a1, a2, 0, 0, l1, l2, dp)"
   ]
  },
  {
   "cell_type": "code",
   "execution_count": 1,
   "metadata": {},
   "outputs": [],
   "source": [
    "def LCS(a1, a2, i, j, l1, l2):\n",
    "    if i>=l1 or j>=l2:\n",
    "        return []\n",
    "    \n",
    "    if a1[i]==a2[j]:\n",
    "        smallerOutput = LCS(a1, a2, i+1, j+1, l1, l2)\n",
    "        ans = []\n",
    "        ans.append(a1[i])\n",
    "        for i in smallerOutput:\n",
    "            ans.append(i)\n",
    "        return ans\n",
    "    else:\n",
    "        s1 = LCS(a1, a2, i+1, j, l1, l2)\n",
    "        s2 = LCS(a1, a2, i, j+1, l1, l2)\n",
    "        if len(s1)>len(s2):\n",
    "            return s1\n",
    "        else:\n",
    "            return s2"
   ]
  },
  {
   "cell_type": "code",
   "execution_count": 2,
   "metadata": {},
   "outputs": [
    {
     "data": {
      "text/plain": [
       "[1, 2, 3]"
      ]
     },
     "execution_count": 2,
     "metadata": {},
     "output_type": "execute_result"
    }
   ],
   "source": [
    "a1 = [1, 2, 3, 4, 1]\n",
    "a2 = [3, 4, 1, 2, 1, 3]\n",
    "LCS(a1, a2, 0, 0, 5, 6)"
   ]
  },
  {
   "cell_type": "markdown",
   "metadata": {},
   "source": [
    "## MIN COST "
   ]
  },
  {
   "cell_type": "code",
   "execution_count": 1,
   "metadata": {},
   "outputs": [],
   "source": [
    "import sys\n",
    "def Minimum_cost(arr, m, n, i, j):\n",
    "    # Reaching the last index\n",
    "    if i==(m-1) and j==(n-1):\n",
    "        return arr[i][j]\n",
    "    #Base Case\n",
    "    if i>=m or j>=n:\n",
    "        return sys.maxsize\n",
    "    \n",
    "    x = Minimum_cost(arr, m, n, i+1, j)\n",
    "    y = Minimum_cost(arr, m, n, i, j+1)\n",
    "    z = Minimum_cost(arr, m, n, i+1, j+1)\n",
    "    \n",
    "    ans = min(x,y,z)\n",
    "    \n",
    "    return arr[i][j] + ans"
   ]
  },
  {
   "cell_type": "code",
   "execution_count": 3,
   "metadata": {},
   "outputs": [
    {
     "name": "stdout",
     "output_type": "stream",
     "text": [
      "3 3 \n",
      "1 2 3\n",
      "4 5 6\n",
      "7 8 9\n"
     ]
    }
   ],
   "source": [
    "m, n = [int(i) for i in input().split()]\n",
    "l=[]\n",
    "for i in range(m):\n",
    "    next_row = [int(j) for j in input().split()]\n",
    "    l.append(next_row)"
   ]
  },
  {
   "cell_type": "code",
   "execution_count": 2,
   "metadata": {},
   "outputs": [],
   "source": [
    "import sys\n",
    "def Minimum_cost_Memo(arr, m, n, i, j, dp):\n",
    "    # Reaching the last index\n",
    "    if i==(m-1) and j==(n-1):\n",
    "        return arr[i][j]\n",
    "    #Base Case\n",
    "    if i>=m or j>=n:\n",
    "        return sys.maxsize\n",
    "    \n",
    "    if dp[i+1][j]==-1:\n",
    "        x = Minimum_cost_Memo(arr, m, n, i+1, j,dp)\n",
    "        dp[i+1][j] = x\n",
    "    else:\n",
    "        x = dp[i+1][j]\n",
    "    if dp[i][j+1]==-1:\n",
    "        y = Minimum_cost_Memo(arr, m, n, i, j+1,dp)\n",
    "        dp[i][j+1]=y\n",
    "    else:\n",
    "        y = dp[i][j+1]\n",
    "    if dp[i+1][j+1]==-1:\n",
    "        z = Minimum_cost_Memo(arr, m, n, i+1, j+1,dp)\n",
    "        dp[i+1][j+1]=z\n",
    "    else:\n",
    "        z = dp[i+1][j+1]\n",
    "        \n",
    "    ans = min(x,y,z)\n",
    "    \n",
    "    return arr[i][j] + ans"
   ]
  },
  {
   "cell_type": "code",
   "execution_count": 32,
   "metadata": {},
   "outputs": [],
   "source": [
    "dp = [[-1 for j in range(n+1)] for i in range(m+1)]"
   ]
  },
  {
   "cell_type": "code",
   "execution_count": 33,
   "metadata": {},
   "outputs": [
    {
     "data": {
      "text/plain": [
       "15"
      ]
     },
     "execution_count": 33,
     "metadata": {},
     "output_type": "execute_result"
    }
   ],
   "source": [
    "Minimum_cost_Memo(l,m,n,0,0,dp)"
   ]
  },
  {
   "cell_type": "code",
   "execution_count": 36,
   "metadata": {},
   "outputs": [
    {
     "data": {
      "text/plain": [
       "5"
      ]
     },
     "execution_count": 36,
     "metadata": {},
     "output_type": "execute_result"
    }
   ],
   "source": [
    "l[-2][-2]"
   ]
  },
  {
   "cell_type": "code",
   "execution_count": 3,
   "metadata": {},
   "outputs": [],
   "source": [
    "import sys\n",
    "def Minimum_Cost_DP(arr, m, n):\n",
    "    dp = [[sys.maxsize for j in range(n+1)] for i in range(m+1)]\n",
    "    for i in range(m-1,-1,-1):\n",
    "        for j in range(n-1,-1,-1):\n",
    "            if i==m-1 and j==n-1:\n",
    "                dp[i][j]=arr[i][j]\n",
    "            else:\n",
    "                dp[i][j] = arr[i][j]+min(dp[i+1][j], dp[i][j+1], dp[i+1][j+1])\n",
    "    return dp[0][0]"
   ]
  },
  {
   "cell_type": "code",
   "execution_count": 6,
   "metadata": {},
   "outputs": [],
   "source": [
    "import sys\n",
    "def Minimum_Cost_DP_TD(arr, m, n):\n",
    "    dp = [[sys.maxsize for j in range(n+1)] for i in range(m+1)]\n",
    "    \n",
    "    for i in range(1, m+1):\n",
    "        for j in range(1, n+1):\n",
    "            if i==1 and j==1:\n",
    "                dp[i][j]=arr[i][j]\n",
    "            else:\n",
    "                dp[i][j] = arr[i-1][j-1]+min(dp[i-1][j], dp[i][j-1], dp[i-1][j-1])\n",
    "    return dp[m][n]"
   ]
  },
  {
   "cell_type": "code",
   "execution_count": 7,
   "metadata": {},
   "outputs": [
    {
     "data": {
      "text/plain": [
       "19"
      ]
     },
     "execution_count": 7,
     "metadata": {},
     "output_type": "execute_result"
    }
   ],
   "source": [
    "Minimum_Cost_DP_TD(l,3,3)"
   ]
  },
  {
   "cell_type": "markdown",
   "metadata": {},
   "source": [
    "## LCS"
   ]
  },
  {
   "cell_type": "code",
   "execution_count": 5,
   "metadata": {},
   "outputs": [],
   "source": [
    "def lengthOflcs(str1, str2, l1, l2, i, j):\n",
    "    #Base CASE\n",
    "    if i>=l1 or j>=l2:\n",
    "        return 0\n",
    "    \n",
    "    if str1[i]==str2[j]:\n",
    "        smallerOutput = lengthOflcs(str1, str2, l1, l2, i+1, j+1)\n",
    "        return 1+smallerOutput\n",
    "    else:\n",
    "        x = lengthOflcs(str1, str2, l1, l2, i+1, j)\n",
    "        y = lengthOflcs(str1, str2, l1, l2, i, j+1)\n",
    "        return max(x,y)"
   ]
  },
  {
   "cell_type": "code",
   "execution_count": 7,
   "metadata": {},
   "outputs": [
    {
     "data": {
      "text/plain": [
       "3"
      ]
     },
     "execution_count": 7,
     "metadata": {},
     "output_type": "execute_result"
    }
   ],
   "source": [
    "s1 = 'abcd'\n",
    "s2 = 'acbdef'\n",
    "lengthOflcs(s1, s2, 4, 6, 0, 0)"
   ]
  },
  {
   "cell_type": "code",
   "execution_count": 9,
   "metadata": {},
   "outputs": [],
   "source": [
    "def lengthOflcs_Memo(str1, str2, l1, l2, i, j, dp):\n",
    "    #Base CASE\n",
    "    if i>=l1 or j>=l2:\n",
    "        return 0\n",
    "    \n",
    "    if str1[i]==str2[j]:\n",
    "        if dp[i+1][j+1]==-1:\n",
    "            smallerOutput = lengthOflcs_Memo(str1, str2, l1, l2, i+1, j+1,dp)\n",
    "            dp[i+1][j+1]=smallerOutput\n",
    "        else:\n",
    "            smallerOutput = dp[i+1][j+1]\n",
    "        return 1+smallerOutput\n",
    "    else:\n",
    "        if dp[i+1][j]==-1:\n",
    "            x = lengthOflcs_Memo(str1, str2, l1, l2, i+1, j,dp)\n",
    "            dp[i+1][j]=x\n",
    "        else:\n",
    "            x = dp[i+1][j]\n",
    "        if dp[i][j+1]==-1:\n",
    "            y = lengthOflcs_Memo(str1, str2, l1, l2, i, j+1,dp)\n",
    "            dp[i][j+1]=y\n",
    "        else:\n",
    "            y = dp[i][j+1]\n",
    "        return max(x,y)"
   ]
  },
  {
   "cell_type": "code",
   "execution_count": 10,
   "metadata": {},
   "outputs": [
    {
     "data": {
      "text/plain": [
       "3"
      ]
     },
     "execution_count": 10,
     "metadata": {},
     "output_type": "execute_result"
    }
   ],
   "source": [
    "s1 = 'abcd'\n",
    "s2 = 'acbdef'\n",
    "l1 = 4\n",
    "l2 = 6\n",
    "dp = [[-1 for j in range(l2+1)]for i in range(l1+1)]\n",
    "lengthOflcs_Memo(s1, s2, l1, l2, 0, 0, dp)"
   ]
  },
  {
   "cell_type": "code",
   "execution_count": 38,
   "metadata": {},
   "outputs": [],
   "source": [
    "def LCS_DU_TD(str1, str2):\n",
    "    l1 = len(str1)\n",
    "    l2 = len(str2)\n",
    "    dp = [[0 for j in range(l2+1)]for i in range(l1+1)]\n",
    "    for i in range(0, l1):\n",
    "        for j in range(0, l2):\n",
    "            if str1[i]==str2[j]:\n",
    "                dp[i][j] = 1+dp[i-1][j-1]\n",
    "            else:\n",
    "                dp[i][j] = max(dp[i-1][j], dp[i][j-1])\n",
    "                \n",
    "    return dp"
   ]
  },
  {
   "cell_type": "code",
   "execution_count": 39,
   "metadata": {},
   "outputs": [
    {
     "data": {
      "text/plain": [
       "[[1, 1, 1, 1, 1, 1, 0],\n",
       " [1, 1, 2, 2, 2, 2, 0],\n",
       " [1, 2, 2, 2, 2, 2, 0],\n",
       " [1, 2, 2, 3, 3, 3, 0],\n",
       " [0, 0, 0, 0, 0, 0, 0]]"
      ]
     },
     "execution_count": 39,
     "metadata": {},
     "output_type": "execute_result"
    }
   ],
   "source": [
    "s1 = 'abcd'\n",
    "s2 = 'acbdef'\n",
    "LCS_DU_TD(s1,s2)"
   ]
  },
  {
   "cell_type": "code",
   "execution_count": 29,
   "metadata": {},
   "outputs": [],
   "source": [
    "def lengthOflcs_DP(str1, str2):\n",
    "    l1 = len(str1)\n",
    "    l2 = len(str2)\n",
    "    dp = [[0 for j in range(l2+1)]for i in range(l1+1)]\n",
    "    \n",
    "    for i in range(l1-1,-1,-1):\n",
    "        for j in range(l2-1, -1, -1):\n",
    "            if i==(l1-1) and j==(l2-1):\n",
    "                if str1[i]==str2[j]:\n",
    "                    dp[i][j]=1\n",
    "                else:\n",
    "                    dp[i][j]=0\n",
    "            else:\n",
    "                if str1[i]==str2[j]:\n",
    "                    dp[i][j] = 1 + dp[i+1][j+1]\n",
    "                else:\n",
    "                    dp[i][j] = max(dp[i+1][j], dp[i][j+1])\n",
    "    return dp"
   ]
  },
  {
   "cell_type": "code",
   "execution_count": 30,
   "metadata": {},
   "outputs": [
    {
     "data": {
      "text/plain": [
       "[[3, 2, 2, 1, 0, 0, 0],\n",
       " [2, 2, 2, 1, 0, 0, 0],\n",
       " [2, 2, 1, 1, 0, 0, 0],\n",
       " [1, 1, 1, 1, 0, 0, 0],\n",
       " [0, 0, 0, 0, 0, 0, 0]]"
      ]
     },
     "execution_count": 30,
     "metadata": {},
     "output_type": "execute_result"
    }
   ],
   "source": [
    "s1 = 'abcd'\n",
    "s2 = 'acbdef'\n",
    "lengthOflcs_DP(s1,s2)"
   ]
  },
  {
   "cell_type": "markdown",
   "metadata": {},
   "source": [
    "## KNAPSACK (0-1)"
   ]
  },
  {
   "cell_type": "code",
   "execution_count": 5,
   "metadata": {},
   "outputs": [],
   "source": [
    "def knapsackBF(n, weights, values, maxWeight, i):\n",
    "    if i>=n:\n",
    "        return 0\n",
    "    if weights[i]<=maxWeight:\n",
    "        not_included = knapsackBF(n, weights, values, maxWeight, i+1)\n",
    "        included = values[i] + knapsackBF(n, weights, values, maxWeight-weights[i], i+1)\n",
    "        ans = max(not_included, included)\n",
    "    else:\n",
    "        ans = knapsackBF(n, weights, values, maxWeight, i+1)\n",
    "    return ans"
   ]
  },
  {
   "cell_type": "code",
   "execution_count": 6,
   "metadata": {},
   "outputs": [
    {
     "data": {
      "text/plain": [
       "13"
      ]
     },
     "execution_count": 6,
     "metadata": {},
     "output_type": "execute_result"
    }
   ],
   "source": [
    "n = 4\n",
    "w = [1, 2, 4, 5]\n",
    "v = [5, 4, 8, 6]\n",
    "maxw = 5\n",
    "knapsackBF(n, w, v, maxw, 0)"
   ]
  },
  {
   "cell_type": "code",
   "execution_count": 14,
   "metadata": {},
   "outputs": [],
   "source": [
    "#TOP-DOWN APPROACH\n",
    "def knapsack_DP(n, weights, values, maxWeight):\n",
    "    #i represents weights to include and j represent the maximum weight.\n",
    "    dp = [[0 for j in range(maxWeight+1)]for i in range(n+1)]\n",
    "    \n",
    "    for i in range(1,n+1):\n",
    "        for j in range(1, maxWeight+1):\n",
    "            if j<weights[i-1]: #If maximum weight is smaller than the weight, then dont include.\n",
    "                dp[i][j] = dp[i-1][j]\n",
    "            else:\n",
    "                ans1 = values[i-1] + dp[i-1][j-weights[i-1]] #Including the element\n",
    "                ans2 = dp[i-1][j] #Not including the element\n",
    "                dp[i][j] = max(ans1,ans2)\n",
    "    return dp[n][maxWeight]"
   ]
  },
  {
   "cell_type": "code",
   "execution_count": 13,
   "metadata": {},
   "outputs": [
    {
     "data": {
      "text/plain": [
       "13"
      ]
     },
     "execution_count": 13,
     "metadata": {},
     "output_type": "execute_result"
    }
   ],
   "source": [
    "n = 4\n",
    "w = [1, 2, 4, 5]\n",
    "v = [5, 4, 8, 6]\n",
    "maxw = 5\n",
    "knapsack_DP(n, w, v, maxw)"
   ]
  },
  {
   "cell_type": "code",
   "execution_count": 44,
   "metadata": {},
   "outputs": [],
   "source": [
    "def knapsack_DP_BU(n, weights, values, maxWeight):\n",
    "    dp = [[0 for j in range(maxWeight+1)] for i in range(n+1)]\n",
    "    for i in range(n-1, -1, -1): #This loop runs from n-1.\n",
    "        for j in range(maxWeight, -1, -1):\n",
    "            if j < weights[i]:\n",
    "                dp[i][j] = dp[i+1][j]\n",
    "            else:\n",
    "                ans1 = dp[i+1][j]\n",
    "                ans2 = values[i] + dp[i+1][j-weights[i]]\n",
    "                dp[i][j] = max(ans1, ans2)\n",
    "                \n",
    "    return dp[0][maxWeight]"
   ]
  },
  {
   "cell_type": "code",
   "execution_count": 45,
   "metadata": {},
   "outputs": [
    {
     "data": {
      "text/plain": [
       "13"
      ]
     },
     "execution_count": 45,
     "metadata": {},
     "output_type": "execute_result"
    }
   ],
   "source": [
    "n = 4\n",
    "w = [1, 2, 4, 5]\n",
    "v = [5, 4, 8, 6]\n",
    "maxw = 5b\n",
    "knapsack_DP_BU(n, w, v, maxw)"
   ]
  },
  {
   "cell_type": "markdown",
   "metadata": {},
   "source": [
    "# KNAPSACK (UNBOUNDED)"
   ]
  },
  {
   "cell_type": "code",
   "execution_count": 1,
   "metadata": {},
   "outputs": [],
   "source": [
    "def Knap(arr, k, i, n):\n",
    "    if i>=n:\n",
    "        return 0\n",
    "    if arr[i]<=k:\n",
    "        smallerOutput1 = arr[i] + Knap(arr, k-arr[i], i, n)\n",
    "        smallerOutput2 = Knap(arr, k, i+1, n)\n",
    "        ans = max(smallerOutput1, smallerOutput2)\n",
    "    else:\n",
    "        ans = Knap(arr, k, i+1, n)\n",
    "    return ans"
   ]
  },
  {
   "cell_type": "code",
   "execution_count": 3,
   "metadata": {},
   "outputs": [],
   "source": [
    "def Knap_Dp(arr, n, k):\n",
    "    dp = [[0 for j in range(k+1)] for i in range(n+1)]\n",
    "    \n",
    "    for i in range(1, n+1):\n",
    "        for j in range(1, k+1):\n",
    "            if j<arr[i-1]: #If maximum weight is smaller than the weight, then dont include.\n",
    "                dp[i][j] = dp[i-1][j]\n",
    "            else: #We have two choices here, 'to include' or 'not include'. \n",
    "                a1 = arr[i-1] + dp[i][j-arr[i-1]] #If we have included the element, it can be included once more.\n",
    "                a2 = dp[i-1][j] #If it is not included, discard it forever.\n",
    "                dp[i][j] = max(a1, a2)\n",
    "                \n",
    "    return dp[n][k]"
   ]
  },
  {
   "cell_type": "markdown",
   "metadata": {},
   "source": [
    "## MIM**"
   ]
  },
  {
   "cell_type": "code",
   "execution_count": 43,
   "metadata": {},
   "outputs": [],
   "source": [
    "def MIM_Rec(arr, start, end):\n",
    "    \n",
    "    if start>=end:\n",
    "        return 0\n",
    "    \n",
    "    ans = sys.maxsize\n",
    "    for k in range(start, end): #This loop runs from start to end-1\n",
    "        a1 = MIM_Rec(arr, start, k) \n",
    "        a2 = MIM_Rec(arr, k+1, end)\n",
    "        a3 = arr[start-1]*arr[k]*arr[end] \n",
    "        total = a1+a2+a3\n",
    "        ans = min(ans, total)\n",
    "        \n",
    "    return ans"
   ]
  },
  {
   "cell_type": "code",
   "execution_count": 44,
   "metadata": {},
   "outputs": [
    {
     "data": {
      "text/plain": [
       "8000"
      ]
     },
     "execution_count": 44,
     "metadata": {},
     "output_type": "execute_result"
    }
   ],
   "source": [
    "p = [10,15,20,25]\n",
    "n = len(p)-1\n",
    "MIM_Rec(p, 1, n)"
   ]
  },
  {
   "cell_type": "code",
   "execution_count": 50,
   "metadata": {},
   "outputs": [],
   "source": [
    "def MIM_MEMO(arr, start, end, dp):\n",
    "    if start>=end:\n",
    "        return 0\n",
    "    ans = sys.maxsize\n",
    "    for k in range(start, end): #This loop runs from start to end-1\n",
    "        if dp[start][k]==-1:\n",
    "            a1 = MIM_MEMO(arr, start, k, dp) \n",
    "            dp[start][k] = a1\n",
    "        else:\n",
    "            a1 = dp[start][k]\n",
    "        if dp[k+1][end]==-1:\n",
    "            a2 = MIM_MEMO(arr, k+1, end, dp)\n",
    "            dp[k+1][end] = a2\n",
    "        else:\n",
    "            a2  =dp[k+1][end]\n",
    "            \n",
    "        a3 = arr[start-1]*arr[k]*arr[end] \n",
    "        total = a1+a2+a3\n",
    "        ans = min(ans, total)\n",
    "        \n",
    "    return ans"
   ]
  },
  {
   "cell_type": "code",
   "execution_count": 51,
   "metadata": {},
   "outputs": [
    {
     "data": {
      "text/plain": [
       "8000"
      ]
     },
     "execution_count": 51,
     "metadata": {},
     "output_type": "execute_result"
    }
   ],
   "source": [
    "p = [10,15,20,25]\n",
    "n = len(p)-1\n",
    "dp = [[-1 for j in range(n+1)]for i in range(n+1)]\n",
    "MIM_MEMO(p, 1, n, dp)"
   ]
  },
  {
   "cell_type": "code",
   "execution_count": 3,
   "metadata": {},
   "outputs": [],
   "source": [
    "import queue\n",
    "def isValid(st):\n",
    "        s = queue.LifoQueue()\n",
    "        #if len(st)==1:\n",
    "        if st[0]==']' or st[0]=='}' or st[0]==')':\n",
    "            return False\n",
    "        \n",
    "        for i in st:\n",
    "          if i == '(' or i=='{' or i=='[':\n",
    "            s.put(i)\n",
    "          \n",
    "          if i == ']' or i=='}' or i==')':\n",
    "            if i==']':\n",
    "              if s.empty() is False and s.get()=='[':\n",
    "                continue\n",
    "              else:\n",
    "                return False\n",
    "            if i=='}':\n",
    "              if s.empty() is False and s.get()=='{':\n",
    "                continue\n",
    "              else:\n",
    "                return False\n",
    "            if i==')':\n",
    "              if s.empty() is False and s.get()=='(':\n",
    "                continue\n",
    "              else:\n",
    "                return False\n",
    "              \n",
    "        if s.empty():\n",
    "          return True\n",
    "        else:\n",
    "          return False\n",
    "        "
   ]
  },
  {
   "cell_type": "code",
   "execution_count": 4,
   "metadata": {},
   "outputs": [
    {
     "data": {
      "text/plain": [
       "False"
      ]
     },
     "execution_count": 4,
     "metadata": {},
     "output_type": "execute_result"
    }
   ],
   "source": [
    "isValid(\"[])\")"
   ]
  }
 ],
 "metadata": {
  "kernelspec": {
   "display_name": "Python 3",
   "language": "python",
   "name": "python3"
  },
  "language_info": {
   "codemirror_mode": {
    "name": "ipython",
    "version": 3
   },
   "file_extension": ".py",
   "mimetype": "text/x-python",
   "name": "python",
   "nbconvert_exporter": "python",
   "pygments_lexer": "ipython3",
   "version": "3.7.4"
  }
 },
 "nbformat": 4,
 "nbformat_minor": 4
}
