{
 "cells": [
  {
   "cell_type": "markdown",
   "metadata": {},
   "source": [
    "### Fibonacci "
   ]
  },
  {
   "cell_type": "code",
   "execution_count": 2,
   "metadata": {},
   "outputs": [],
   "source": [
    "def Fibo(n):\n",
    "    if n==0 or n==1:\n",
    "        return n\n",
    "    ans1 = Fibo(n-1)\n",
    "    ans2 = Fibo(n-2)\n",
    "    ans = ans1+ans2\n",
    "    return ans"
   ]
  },
  {
   "cell_type": "code",
   "execution_count": 3,
   "metadata": {},
   "outputs": [
    {
     "data": {
      "text/plain": [
       "21"
      ]
     },
     "execution_count": 3,
     "metadata": {},
     "output_type": "execute_result"
    }
   ],
   "source": [
    "Fibo(8)"
   ]
  },
  {
   "cell_type": "code",
   "execution_count": 8,
   "metadata": {},
   "outputs": [],
   "source": [
    "def Fibo_Memo(n, dp):\n",
    "    if n==0 or n==1:\n",
    "        return n\n",
    "    \n",
    "    if dp[n-1]==-1:\n",
    "        ans1 = Fibo(n-1)\n",
    "        dp[n-1]=ans1\n",
    "    else:\n",
    "        ans1 = dp[n-1]\n",
    "    if dp[n-2]==-1:\n",
    "        ans2 = Fibo(n-2)\n",
    "        dp[n-2]=ans2\n",
    "    else:\n",
    "        ans2 = dp[n-2]\n",
    "    \n",
    "    return ans1+ans2"
   ]
  },
  {
   "cell_type": "code",
   "execution_count": 10,
   "metadata": {},
   "outputs": [
    {
     "name": "stdout",
     "output_type": "stream",
     "text": [
      "8\n",
      "21\n"
     ]
    }
   ],
   "source": [
    "n = int(input())\n",
    "dp = [-1 for i in range(n+1)]\n",
    "print(Fibo_Memo(n, dp))"
   ]
  },
  {
   "cell_type": "code",
   "execution_count": 13,
   "metadata": {},
   "outputs": [],
   "source": [
    "def Fibo_DP(n):\n",
    "    dp = [-1 for i in range(n+1)]\n",
    "    dp[0]=0\n",
    "    dp[1]=1\n",
    "    for i in range(2,n+1):\n",
    "        dp[i]=dp[i-1]+dp[i-2]\n",
    "    return dp[n]"
   ]
  },
  {
   "cell_type": "code",
   "execution_count": 14,
   "metadata": {},
   "outputs": [
    {
     "data": {
      "text/plain": [
       "21"
      ]
     },
     "execution_count": 14,
     "metadata": {},
     "output_type": "execute_result"
    }
   ],
   "source": [
    "Fibo_DP(8)"
   ]
  },
  {
   "cell_type": "markdown",
   "metadata": {},
   "source": [
    "### Min Steps to 1:"
   ]
  },
  {
   "cell_type": "code",
   "execution_count": 12,
   "metadata": {},
   "outputs": [],
   "source": [
    "import sys\n",
    "sys.setrecursionlimit(10**6)"
   ]
  },
  {
   "cell_type": "code",
   "execution_count": 55,
   "metadata": {},
   "outputs": [],
   "source": [
    "def minStepsTo1(n):\n",
    "    if n==1:\n",
    "        return 0\n",
    "    ans1, ans2, ans3 = 100000, 100000, 100000\n",
    "    ans1 = minStepsTo1DP(n-1)\n",
    "    if n%2==0:\n",
    "        ans2 = minStepsTo1DP(n//2)\n",
    "    if n%3==0:\n",
    "        ans3 = minStepsTo1DP(n//3)\n",
    "        \n",
    "    return 1+min(ans1,ans2,ans3)"
   ]
  },
  {
   "cell_type": "code",
   "execution_count": 2,
   "metadata": {},
   "outputs": [],
   "source": [
    "def minStepsTo1DP_Memo(n,dp):\n",
    "    if n==1:\n",
    "        return 0\n",
    "    ans1, ans2, ans3 = 100000, 100000, 100000\n",
    "    \n",
    "    if dp[n-1]==-1:\n",
    "        ans1 = minStepsTo1DP_Memo(n-1,dp)\n",
    "        dp[n-1]=ans1\n",
    "    else:\n",
    "        ans1 = dp[n-1]\n",
    "    if n%2==0:\n",
    "        if dp[n//2]==-1:\n",
    "            ans2 = minStepsTo1DP_Memo(n//2,dp)\n",
    "            dp[n//2]=ans2\n",
    "        else:\n",
    "            ans2 = dp[n//2]\n",
    "    if n%3==0:\n",
    "        if dp[n//3]==-1:\n",
    "            ans3 = minStepsTo1DP_Memo(n//3,dp)\n",
    "            dp[n//3]=ans3\n",
    "        else:\n",
    "            ans3 = dp[n//3]\n",
    "        \n",
    "    return 1+min(ans1,ans2,ans3)"
   ]
  },
  {
   "cell_type": "code",
   "execution_count": 9,
   "metadata": {},
   "outputs": [],
   "source": [
    "def minStepsTo1DP_DP(n):\n",
    "    dp = [-1 for i in range(n+1)] # [-1] * (n+1)\n",
    "    dp[0]=0\n",
    "    dp[1]=0\n",
    "    bigNumber = 1000000\n",
    "    \n",
    "    for i in range(2,n+1):\n",
    "        a1 = dp[i-1]\n",
    "        if i%2==0:\n",
    "            a2 = dp[i//2]\n",
    "        else:\n",
    "            a2 = bigNumber\n",
    "        if i%3==0:\n",
    "            a3 = dp[i//3]\n",
    "        else:\n",
    "            a3 = bigNumber\n",
    "        dp[i] = 1+min(a1,a2,a3)\n",
    "    \n",
    "    return dp[n]"
   ]
  },
  {
   "cell_type": "code",
   "execution_count": 10,
   "metadata": {},
   "outputs": [
    {
     "data": {
      "text/plain": [
       "3"
      ]
     },
     "execution_count": 10,
     "metadata": {},
     "output_type": "execute_result"
    }
   ],
   "source": [
    "minStepsTo1DP_DP(10)"
   ]
  },
  {
   "cell_type": "markdown",
   "metadata": {},
   "source": [
    "## Minimum number of Squares"
   ]
  },
  {
   "cell_type": "code",
   "execution_count": 4,
   "metadata": {},
   "outputs": [],
   "source": [
    "import sys\n",
    "import math\n",
    "sys.setrecursionlimit(10**6)"
   ]
  },
  {
   "cell_type": "code",
   "execution_count": 5,
   "metadata": {},
   "outputs": [],
   "source": [
    "def MinSquares_R(n):\n",
    "    ans = sys.maxsize\n",
    "    if n==0:\n",
    "        return 0\n",
    "    \n",
    "    root = int(math.sqrt(n))\n",
    "    for i in range(1, root+1):\n",
    "        currentAns = 1+MinSquares_R(n-(i*i))\n",
    "        ans = min(ans, currentAns)\n",
    "    return ans"
   ]
  },
  {
   "cell_type": "code",
   "execution_count": 4,
   "metadata": {},
   "outputs": [
    {
     "data": {
      "text/plain": [
       "2"
      ]
     },
     "execution_count": 4,
     "metadata": {},
     "output_type": "execute_result"
    }
   ],
   "source": [
    "MinSquares_R(41)"
   ]
  },
  {
   "cell_type": "code",
   "execution_count": 6,
   "metadata": {},
   "outputs": [],
   "source": [
    "import sys\n",
    "import math\n",
    "sys.setrecursionlimit(10**6)\n",
    "def Minimum_Squares(n, dp):\n",
    "    if n==0:\n",
    "        return 0\n",
    "    ans=sys.maxsize\n",
    "    root = int(math.sqrt(n))\n",
    "    \n",
    "    for i in range(1, root+1):\n",
    "        call=n-(i*i)\n",
    "        if dp[call]==-1:\n",
    "            temp=Minimum_Squares(call, dp)\n",
    "            dp[call]=temp\n",
    "        else:\n",
    "            temp=dp[call]\n",
    "        \n",
    "        ans=min(ans,1+temp)\n",
    "    return ans"
   ]
  },
  {
   "cell_type": "code",
   "execution_count": null,
   "metadata": {},
   "outputs": [],
   "source": [
    "n=10000\n",
    "dp = [-1 for i in range(n+1)]\n",
    "Minimum_Squares(n, dp)"
   ]
  },
  {
   "cell_type": "code",
   "execution_count": 6,
   "metadata": {},
   "outputs": [],
   "source": [
    "def MinSquares_DP(n):\n",
    "    dp = [-1 for i in range(n+1)]\n",
    "    dp[0]=0\n",
    "    dp[1]=1\n",
    "    for i in range(2,n+1):\n",
    "        ans = sys.maxsize\n",
    "        root = int(math.sqrt(i))\n",
    "        for j in range(1, root+1):\n",
    "            currentAns = 1 + dp[i-(j*j)]\n",
    "            ans = min(currentAns, ans)\n",
    "        dp[i] = ans\n",
    "        \n",
    "    return dp[n]"
   ]
  },
  {
   "cell_type": "code",
   "execution_count": 7,
   "metadata": {},
   "outputs": [
    {
     "data": {
      "text/plain": [
       "2"
      ]
     },
     "execution_count": 7,
     "metadata": {},
     "output_type": "execute_result"
    }
   ],
   "source": [
    "MinSquares_DP(41)"
   ]
  },
  {
   "cell_type": "markdown",
   "metadata": {},
   "source": [
    "## LIS"
   ]
  },
  {
   "cell_type": "code",
   "execution_count": 6,
   "metadata": {},
   "outputs": [],
   "source": [
    "def lis_DP1(arr):\n",
    "    n = len(arr)\n",
    "    dp = [1]*n\n",
    "    dp[0]=1\n",
    "    \n",
    "    for i in range (1, n):\n",
    "        maxi=1\n",
    "        for j in range(0, i):\n",
    "            if arr[i] > arr[j]:\n",
    "                temp = 1+dp[j]\n",
    "                maxi = max(temp,maxi)\n",
    "        dp[i]=maxi\n",
    "        \n",
    "    return max(dp)"
   ]
  },
  {
   "cell_type": "code",
   "execution_count": 7,
   "metadata": {},
   "outputs": [
    {
     "data": {
      "text/plain": [
       "3"
      ]
     },
     "execution_count": 7,
     "metadata": {},
     "output_type": "execute_result"
    }
   ],
   "source": [
    "a = [2,7,4,3,8]\n",
    "lis_DP1(a)"
   ]
  },
  {
   "cell_type": "code",
   "execution_count": 32,
   "metadata": {},
   "outputs": [],
   "source": [
    "def lis_DP2(arr, n):\n",
    "    dp = [[0 for j in range(2)]for i in range(n+1)]\n",
    "    \n",
    "    for i in range(n-1, -1, -1):\n",
    "        including_max = 1\n",
    "        for j in range(i+1, n):\n",
    "            if arr[j]>arr[i]:\n",
    "                including_max = max(including_max, 1+dp[j][0])\n",
    "        dp[i][0] = including_max\n",
    "        excluding_max = dp[i+1][1]\n",
    "        overall_max = max(including_max, excluding_max)\n",
    "        dp[i][1] = overall_max\n",
    "    \n",
    "    return dp[0][1]"
   ]
  },
  {
   "cell_type": "code",
   "execution_count": 5,
   "metadata": {},
   "outputs": [
    {
     "data": {
      "text/plain": [
       "5"
      ]
     },
     "execution_count": 5,
     "metadata": {},
     "output_type": "execute_result"
    }
   ],
   "source": [
    "arr = [1,8,4,11,10,9,13,40]\n",
    "lis_DP1(arr)"
   ]
  },
  {
   "cell_type": "code",
   "execution_count": 27,
   "metadata": {},
   "outputs": [
    {
     "data": {
      "text/plain": [
       "2"
      ]
     },
     "execution_count": 27,
     "metadata": {},
     "output_type": "execute_result"
    }
   ],
   "source": [
    "l = [1,2,2]\n",
    "lis(l)"
   ]
  }
 ],
 "metadata": {
  "kernelspec": {
   "display_name": "Python 3",
   "language": "python",
   "name": "python3"
  },
  "language_info": {
   "codemirror_mode": {
    "name": "ipython",
    "version": 3
   },
   "file_extension": ".py",
   "mimetype": "text/x-python",
   "name": "python",
   "nbconvert_exporter": "python",
   "pygments_lexer": "ipython3",
   "version": "3.8.5"
  }
 },
 "nbformat": 4,
 "nbformat_minor": 4
}
