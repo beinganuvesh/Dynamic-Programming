{
 "cells": [
  {
   "cell_type": "markdown",
   "metadata": {},
   "source": [
    "## 01-KnapSack "
   ]
  },
  {
   "cell_type": "code",
   "execution_count": 1,
   "metadata": {},
   "outputs": [],
   "source": [
    "def KnapSack_01(n, weight, value, maxWeight):\n",
    "    dp = [[0 for j in range(maxWeight+1)] for i in range(n+1)]\n",
    "    #Filling the 1st row\n",
    "    for j in range(maxWeight+1):\n",
    "        dp[0][j]=0\n",
    "    #Filling the 1st column\n",
    "    for i in range(n+1):\n",
    "        dp[i][0]=0\n",
    "        \n",
    "    #Now filling the dp array.\n",
    "    for i in range(1, n+1):\n",
    "        for j in range(1, maxWeight+1):\n",
    "            if weight[i-1]<=j: #Here we have two choices. \n",
    "                dp[i][j] = max(value[i-1]+dp[i-1][j-weight[i-1]] , dp[i-1][j] )\n",
    "            else:\n",
    "                dp[i][j] = dp[i-1][j]\n",
    "                \n",
    "    return dp[n][maxWeight]   "
   ]
  },
  {
   "cell_type": "code",
   "execution_count": 2,
   "metadata": {},
   "outputs": [
    {
     "data": {
      "text/plain": [
       "13"
      ]
     },
     "execution_count": 2,
     "metadata": {},
     "output_type": "execute_result"
    }
   ],
   "source": [
    "n = 4\n",
    "w = [1, 2, 4, 5]\n",
    "v = [5, 4, 8, 6]\n",
    "maxw = 5\n",
    "KnapSack_01(n, w, v, maxw)"
   ]
  },
  {
   "cell_type": "code",
   "execution_count": null,
   "metadata": {},
   "outputs": [],
   "source": []
  },
  {
   "cell_type": "code",
   "execution_count": null,
   "metadata": {},
   "outputs": [],
   "source": []
  },
  {
   "cell_type": "markdown",
   "metadata": {},
   "source": [
    "## Subset Sum (T/F)"
   ]
  },
  {
   "cell_type": "code",
   "execution_count": 3,
   "metadata": {},
   "outputs": [],
   "source": [
    "def Subset_Set(arr, k):\n",
    "    n = len(arr)\n",
    "    dp = [[False for j in range(k+1)] for i in range(n+1)]\n",
    "    #Filling the 1st Row.\n",
    "    for j in range(k+1):\n",
    "        dp[0][j]=False\n",
    "    #Filling the 1st Column.\n",
    "    for i in range(n+1):\n",
    "        dp[i][0]=True\n",
    "    \n",
    "    for i in range(1, n+1):\n",
    "        for j in range(1, k+1):\n",
    "            if arr[i-1]<=j:\n",
    "                dp[i][j] = dp[i-1][j] | dp[i-1][j-arr[i-1]]\n",
    "            else:\n",
    "                dp[i][j] = dp[i-1][j]\n",
    "    return dp[n][k]"
   ]
  },
  {
   "cell_type": "code",
   "execution_count": 4,
   "metadata": {},
   "outputs": [
    {
     "data": {
      "text/plain": [
       "False"
      ]
     },
     "execution_count": 4,
     "metadata": {},
     "output_type": "execute_result"
    }
   ],
   "source": [
    "w = [1,3,5,6,4]\n",
    "x = 20\n",
    "Subset_Set(w,x)"
   ]
  },
  {
   "cell_type": "code",
   "execution_count": null,
   "metadata": {},
   "outputs": [],
   "source": []
  },
  {
   "cell_type": "code",
   "execution_count": null,
   "metadata": {},
   "outputs": [],
   "source": []
  },
  {
   "cell_type": "markdown",
   "metadata": {},
   "source": [
    "## Equal Sum Partition (T/F)"
   ]
  },
  {
   "cell_type": "code",
   "execution_count": 5,
   "metadata": {},
   "outputs": [],
   "source": [
    "def Equal_Sum_Partition(arr):\n",
    "    #Calculating the sum of array.\n",
    "    x = sum(arr)\n",
    "    if x%2!=0:\n",
    "        #If the sum of array is odd, there is no way to divide the array into 2 equal partition. \n",
    "        return False\n",
    "    else:\n",
    "        k = x//2\n",
    "        # Now check wheather we can make sum of subsets equal to k. If yes, then it is possible to \n",
    "        # divide the array into 2 equal partitions, other not possible\n",
    "        return Subset_Set(arr, k)"
   ]
  },
  {
   "cell_type": "code",
   "execution_count": null,
   "metadata": {},
   "outputs": [],
   "source": []
  },
  {
   "cell_type": "code",
   "execution_count": null,
   "metadata": {},
   "outputs": [],
   "source": []
  },
  {
   "cell_type": "markdown",
   "metadata": {},
   "source": [
    "## Count of Subsets Sum With Given Sum "
   ]
  },
  {
   "cell_type": "code",
   "execution_count": 10,
   "metadata": {},
   "outputs": [],
   "source": [
    "def Count_of_Subsets_Given_Sum(arr, k):\n",
    "    n = len(arr)\n",
    "    dp = [[0 for j in range(k+1)] for i in range(n+1)]\n",
    "    #Filling the 1st Row.\n",
    "    for j in range(k+1):\n",
    "        dp[0][j]=0\n",
    "    #Filling the 1st Column.\n",
    "    for i in range(n+1):\n",
    "        dp[i][0]=1\n",
    "    \n",
    "    for i in range(1, n+1):\n",
    "        for j in range(1, k+1):\n",
    "            if arr[i-1]<=j:\n",
    "                dp[i][j] = dp[i-1][j] + dp[i-1][j-arr[i-1]]\n",
    "            else:\n",
    "                dp[i][j] = dp[i-1][j]\n",
    "                \n",
    "    return dp[n][k]"
   ]
  },
  {
   "cell_type": "code",
   "execution_count": 11,
   "metadata": {},
   "outputs": [
    {
     "data": {
      "text/plain": [
       "3"
      ]
     },
     "execution_count": 11,
     "metadata": {},
     "output_type": "execute_result"
    }
   ],
   "source": [
    "a = [2,3,5,6,8,10]\n",
    "s = 10\n",
    "Count_of_Subsets_Given_Sum(a,s)"
   ]
  },
  {
   "cell_type": "code",
   "execution_count": 12,
   "metadata": {},
   "outputs": [
    {
     "data": {
      "text/plain": [
       "1"
      ]
     },
     "execution_count": 12,
     "metadata": {},
     "output_type": "execute_result"
    }
   ],
   "source": [
    "candidates = [2,3,5]\n",
    "target = 8\n",
    "Count_of_Subsets_Given_Sum(candidates, target)"
   ]
  },
  {
   "cell_type": "code",
   "execution_count": null,
   "metadata": {},
   "outputs": [],
   "source": []
  },
  {
   "cell_type": "code",
   "execution_count": null,
   "metadata": {},
   "outputs": [],
   "source": []
  },
  {
   "cell_type": "markdown",
   "metadata": {},
   "source": [
    "## Minimum Difference of Subset*"
   ]
  },
  {
   "cell_type": "code",
   "execution_count": 2,
   "metadata": {},
   "outputs": [],
   "source": [
    "import sys"
   ]
  },
  {
   "cell_type": "code",
   "execution_count": 4,
   "metadata": {},
   "outputs": [],
   "source": [
    "def Subset_sum(arr, Sum):\n",
    "    n=len(arr)\n",
    "    dp = [[False for j in range(Sum+1)] for i in range(n+1)]\n",
    "    for j in range(Sum+1):\n",
    "        dp[0][j]=False\n",
    "    for i in range(n+1):\n",
    "        dp[i][0]=True\n",
    "    for i in range(1, n+1):\n",
    "        for j in range(Sum+1):\n",
    "            if arr[i-1]<=j:\n",
    "                dp[i][j] = (dp[i-1][j]) | (dp[i-1][j-arr[i-1]])\n",
    "            else:\n",
    "                dp[i][j] = dp[i-1][j]\n",
    "    return dp"
   ]
  },
  {
   "cell_type": "code",
   "execution_count": 1,
   "metadata": {},
   "outputs": [],
   "source": [
    "def Minimum_Difference_of_Subset(arr):\n",
    "    sum_of_array = sum(arr)\n",
    "    #Calling the Subset-Sum problem.\n",
    "    table = Subset_sum(arr, sum_of_array)\n",
    "    #Accessing the last row of table to get the possible values of S1.\n",
    "    \n",
    "    values=[]\n",
    "    for j in range(sum_of_array//2+1): \n",
    "        #Access only half way, becuase we are considering S1 to be smaller\n",
    "        #We want the absolute difference.\n",
    "        if table[-1][j]==True:\n",
    "            values.append(j)\n",
    "    \n",
    "    ans = sys.maxsize\n",
    "    for i in values:\n",
    "        ans = min(ans, (sum_of_array-(2*i))) #Using, (range-2S1)\n",
    "    return ans"
   ]
  },
  {
   "cell_type": "code",
   "execution_count": 11,
   "metadata": {},
   "outputs": [
    {
     "data": {
      "text/plain": [
       "4"
      ]
     },
     "execution_count": 11,
     "metadata": {},
     "output_type": "execute_result"
    }
   ],
   "source": [
    "a = [1,7,2]\n",
    "Minimum_Difference_of_Subset(a)"
   ]
  },
  {
   "cell_type": "code",
   "execution_count": null,
   "metadata": {},
   "outputs": [],
   "source": []
  },
  {
   "cell_type": "code",
   "execution_count": null,
   "metadata": {},
   "outputs": [],
   "source": []
  },
  {
   "cell_type": "markdown",
   "metadata": {},
   "source": [
    "## Count the Subsets where difference of sum of subsets is equal to given k."
   ]
  },
  {
   "cell_type": "code",
   "execution_count": 1,
   "metadata": {},
   "outputs": [],
   "source": [
    "def Count_of_Subsets_Given_Sum(arr, k):\n",
    "    n = len(arr)\n",
    "    dp = [[0 for j in range(k+1)] for i in range(n+1)]\n",
    "    #Filling the 1st Row.\n",
    "    for j in range(k+1):\n",
    "        dp[0][j]=0\n",
    "    #Filling the 1st Column.\n",
    "    for i in range(n+1):\n",
    "        dp[i][0]=1\n",
    "    \n",
    "    for i in range(1, n+1):\n",
    "        for j in range(1, k+1):\n",
    "            if arr[i-1]<=j:\n",
    "                dp[i][j] = dp[i-1][j] + dp[i-1][j-arr[i-1]]\n",
    "            else:\n",
    "                dp[i][j] = dp[i-1][j] \n",
    "    return dp[n][k]"
   ]
  },
  {
   "cell_type": "code",
   "execution_count": 3,
   "metadata": {},
   "outputs": [],
   "source": [
    "def Count_Subsets_With_Difference(l, d):\n",
    "    sum_of_array = sum(l)\n",
    "    k = (sum_of_array+d)//2\n",
    "    #Now problem is reduced to this. We just want to find the subsets whose sum is K.\n",
    "    #Call the count Subset with gievn sum problem.\n",
    "    return Count_of_Subsets_Given_Sum(l, k)"
   ]
  },
  {
   "cell_type": "code",
   "execution_count": 4,
   "metadata": {},
   "outputs": [
    {
     "data": {
      "text/plain": [
       "1"
      ]
     },
     "execution_count": 4,
     "metadata": {},
     "output_type": "execute_result"
    }
   ],
   "source": [
    "l=[1]\n",
    "d=2\n",
    "Count_Subsets_With_Difference(l, d)"
   ]
  },
  {
   "cell_type": "code",
   "execution_count": null,
   "metadata": {},
   "outputs": [],
   "source": []
  },
  {
   "cell_type": "code",
   "execution_count": null,
   "metadata": {},
   "outputs": [],
   "source": []
  },
  {
   "cell_type": "markdown",
   "metadata": {},
   "source": [
    "## TARGET SUM"
   ]
  },
  {
   "cell_type": "raw",
   "metadata": {},
   "source": [
    "Exactly same problem as Subsets with Given Differnce. Here target varibale is denoting the difference of that problem."
   ]
  },
  {
   "cell_type": "code",
   "execution_count": null,
   "metadata": {},
   "outputs": [],
   "source": []
  }
 ],
 "metadata": {
  "kernelspec": {
   "display_name": "Python 3",
   "language": "python",
   "name": "python3"
  },
  "language_info": {
   "codemirror_mode": {
    "name": "ipython",
    "version": 3
   },
   "file_extension": ".py",
   "mimetype": "text/x-python",
   "name": "python",
   "nbconvert_exporter": "python",
   "pygments_lexer": "ipython3",
   "version": "3.8.5"
  }
 },
 "nbformat": 4,
 "nbformat_minor": 4
}
