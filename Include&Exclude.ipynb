{
 "cells": [
  {
   "cell_type": "markdown",
   "metadata": {},
   "source": [
    "## COUNT BINARY STRINGS"
   ]
  },
  {
   "cell_type": "code",
   "execution_count": null,
   "metadata": {},
   "outputs": [],
   "source": [
    "def Buildings(n):\n",
    "    dp0=[0 for i in range(n+1)]\n",
    "    dp1=[0 for i in range(n+1)]\n",
    "    \n",
    "    dp0[1]=1\n",
    "    dp1[1]=1\n",
    "    \n",
    "    for i in range(2, n+1):\n",
    "        dp1[i]=dp1[i-1]+dp0[i-1]\n",
    "        dp0[i]=dp1[i-1]\n",
    "        \n",
    "    return (dp0[n]+dp1[n])\n",
    "\n",
    "n=int(input())\n",
    "print(Buildings(n))"
   ]
  },
  {
   "cell_type": "markdown",
   "metadata": {},
   "source": [
    "## ARRANGE BUILDINGS"
   ]
  },
  {
   "cell_type": "code",
   "execution_count": 1,
   "metadata": {},
   "outputs": [],
   "source": [
    "def Buildings(n):\n",
    "    dpB=[0 for i in range(n+1)]\n",
    "    dpS=[0 for i in range(n+1)]\n",
    "    \n",
    "    dpB[1]=1\n",
    "    dpS[1]=1\n",
    "    \n",
    "    for i in range(2, n+1):\n",
    "        dpS[i]=dpS[i-1]+dpB[i-1]\n",
    "        dpB[i]=dpS[i-1]\n",
    "        \n",
    "    return (dpB[n]+dpS[n])**2"
   ]
  },
  {
   "cell_type": "markdown",
   "metadata": {},
   "source": [
    "## COUNT ENCODINGS"
   ]
  },
  {
   "cell_type": "code",
   "execution_count": 1,
   "metadata": {},
   "outputs": [],
   "source": [
    "def Encodings(s):\n",
    "    n=len(s)\n",
    "    dp=[0 for i in range(n)]\n",
    "    dp[0]=1\n",
    "    \n",
    "    for i in range(1, len(dp)):\n",
    "        if s[i-1]=='0' and s[i]=='0':\n",
    "            dp[i]=0\n",
    "        elif s[i-1]=='0' and s[i]!='0':\n",
    "            dp[i]=dp[i-1]\n",
    "        elif s[i-1]!='0' and s[i]=='0':\n",
    "            if s[i-1]=='1' or s[i-1]=='2':\n",
    "                dp[i]=dp[i-2]\n",
    "            else:\n",
    "                dp[i]=0b\n",
    "        else:\n",
    "            if int(s[-2:])<=26:\n",
    "                dp[i]=dp[i-1]+dp[i-2]\n",
    "            else:\n",
    "                dp[i]=dp[i-1]\n",
    "    return dp[n-1]"
   ]
  },
  {
   "cell_type": "markdown",
   "metadata": {},
   "source": [
    "## Maximum Sum Non Adjacent Element"
   ]
  },
  {
   "cell_type": "code",
   "execution_count": 2,
   "metadata": {},
   "outputs": [],
   "source": [
    "def Maximum(n, arr):\n",
    "    inc=arr[0]\n",
    "    exc=0\n",
    "    \n",
    "    for i in range(1, n):\n",
    "        ninc=arr[i]+exc\n",
    "        nexc=max(inc, exc)\n",
    "        \n",
    "        inc=ninc\n",
    "        exc=nexc\n",
    "        \n",
    "    return max(ninc, nexc)\n"
   ]
  }
 ],
 "metadata": {
  "kernelspec": {
   "display_name": "Python 3",
   "language": "python",
   "name": "python3"
  },
  "language_info": {
   "codemirror_mode": {
    "name": "ipython",
    "version": 3
   },
   "file_extension": ".py",
   "mimetype": "text/x-python",
   "name": "python",
   "nbconvert_exporter": "python",
   "pygments_lexer": "ipython3",
   "version": "3.7.4"
  }
 },
 "nbformat": 4,
 "nbformat_minor": 4
}
